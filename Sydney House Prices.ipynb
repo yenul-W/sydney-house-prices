{
 "cells": [
  {
   "cell_type": "markdown",
   "id": "7ea7a6b2-1392-4488-9b3a-a8fe49c82e26",
   "metadata": {},
   "source": [
    "# Predicting Sydney Property Prices\r\n",
    "\r\n",
    "**Author:** Yenul Weerabahu  \r\n",
    "**Date created:** 2024/06/21  \r\n",
    "**Last modified:** 2024/07/28  \r\n",
    "**Description:** Regression of Sydney Property Prices Using Neural Networks\r\n"
   ]
  },
  {
   "cell_type": "markdown",
   "id": "a6f6853a-4ab8-4910-8a18-8871a49a03b6",
   "metadata": {
    "jp-MarkdownHeadingCollapsed": true
   },
   "source": [
    "## Layout\n",
    "This notebook accompanies the final report for this project. The layout of this notebook is as follows\n",
    "1. [Set-up](#setup)\n",
    "2. [Downloading data](#downloadingdata) \n",
    "3. [Data cleaning](#datacleaning) \n",
    "4. [Exploratory Data Analysis (EDA)](#eda)\n",
    "5. [Fitting the benchmark model](#RFmodel)\n",
    "6. [Fitting the first neural network (simple feedforward)](#NN1)\n",
    "7. [Fitting the second neural network (wide and deep)](#NN2)"
   ]
  },
  {
   "cell_type": "markdown",
   "id": "853e996c-d1e8-4463-8c9d-ffc0a4ae69b0",
   "metadata": {},
   "source": [
    "## Set-up <a id=\"setup\"></a>\n",
    "If any of the following libraries are not installed, please ensure to do so."
   ]
  },
  {
   "cell_type": "code",
   "execution_count": 79,
   "id": "e3ec722f-2a07-450b-af9b-977ef8b58ef6",
   "metadata": {},
   "outputs": [],
   "source": [
    "#Import Packages\n",
    "import time\n",
    "import gdown\n",
    "import random\n",
    "import keras\n",
    "import pandas as pd\n",
    "import numpy as np\n",
    "import tensorflow as tf\n",
    "from tensorflow import keras\n",
    "import matplotlib.pyplot as plt\n",
    "import statsmodels.api as sm\n",
    "from statsmodels.formula.api import glm\n",
    "from properscoring import crps_ensemble\n",
    "from sklearn import set_config\n",
    "from sklearn.model_selection import train_test_split\n",
    "from sklearn import tree\n",
    "from sklearn.metrics import mean_squared_error, mean_absolute_percentage_error\n",
    "from sklearn.preprocessing import OneHotEncoder, StandardScaler, OrdinalEncoder\n",
    "from sklearn.pipeline import Pipeline\n",
    "from sklearn.compose import make_column_transformer, ColumnTransformer\n",
    "from sklearn.impute import SimpleImputer\n",
    "from sklearn.ensemble import RandomForestRegressor\n",
    "from sklearn.utils import resample\n",
    "import keras.backend as K\n",
    "import keras_tuner as kt\n",
    "from keras.models import Sequential, Model\n",
    "from keras.layers import Dense, Input, Reshape, Embedding, Concatenate, Dropout  \n",
    "from keras.utils import plot_model\n",
    "from keras.callbacks import EarlyStopping\n",
    "from keras.losses import Loss\n",
    "from keras.optimizers import Adam\n",
    "from scipy import stats\n",
    "from scipy.stats import norm, lognorm\n",
    "from scipy.integrate import quad\n",
    "\n",
    "set_config(transform_output=\"pandas\")"
   ]
  },
  {
   "cell_type": "markdown",
   "id": "7c5c0d2a-1019-427f-8af8-a2e555d283ed",
   "metadata": {},
   "source": [
    "## Downloading Data <a id=\"downloadingdata\"></a>\n",
    "The `propertydata.csv` file will be downloaded from the cloud."
   ]
  },
  {
   "cell_type": "code",
   "execution_count": 80,
   "id": "1ff8ec93-d4eb-4c0e-9a9b-742a0875a7cb",
   "metadata": {},
   "outputs": [
    {
     "name": "stderr",
     "output_type": "stream",
     "text": [
      "Downloading...\n",
      "From: https://drive.google.com/uc?id=1mhVVmzR-hSrQP-FOBH_AELAiew4u6M7c\n",
      "To: C:\\Users\\yenul\\propertydata.csv\n",
      "100%|██████████| 21.2M/21.2M [00:05<00:00, 4.21MB/s]\n"
     ]
    }
   ],
   "source": [
    "# Download Data from Web (Adapted from ChatGPT)\n",
    "file_id = '1mhVVmzR-hSrQP-FOBH_AELAiew4u6M7c'\n",
    "download_url = f'https://drive.google.com/uc?id={file_id}'\n",
    "gdown.download(download_url, 'propertydata.csv')\n",
    "\n",
    "# Import Data Using Pandas\n",
    "data = pd.read_csv('propertydata.csv')"
   ]
  },
  {
   "cell_type": "code",
   "execution_count": 81,
   "id": "eaf62603-4c2f-4568-ade4-cb2659457587",
   "metadata": {},
   "outputs": [
    {
     "data": {
      "text/html": [
       "<div>\n",
       "<style scoped>\n",
       "    .dataframe tbody tr th:only-of-type {\n",
       "        vertical-align: middle;\n",
       "    }\n",
       "\n",
       "    .dataframe tbody tr th {\n",
       "        vertical-align: top;\n",
       "    }\n",
       "\n",
       "    .dataframe thead th {\n",
       "        text-align: right;\n",
       "    }\n",
       "</style>\n",
       "<table border=\"1\" class=\"dataframe\">\n",
       "  <thead>\n",
       "    <tr style=\"text-align: right;\">\n",
       "      <th></th>\n",
       "      <th>Date</th>\n",
       "      <th>suburb</th>\n",
       "      <th>postalCode</th>\n",
       "      <th>bed</th>\n",
       "      <th>bath</th>\n",
       "      <th>car</th>\n",
       "      <th>propType</th>\n",
       "      <th>suburb_population</th>\n",
       "      <th>suburb_median_income</th>\n",
       "      <th>suburb_sqkm</th>\n",
       "      <th>suburb_lat</th>\n",
       "      <th>suburb_lng</th>\n",
       "      <th>suburb_elevation</th>\n",
       "      <th>cash_rate</th>\n",
       "      <th>property_inflation_index</th>\n",
       "      <th>km_from_cbd</th>\n",
       "      <th>sellPrice</th>\n",
       "    </tr>\n",
       "  </thead>\n",
       "  <tbody>\n",
       "    <tr>\n",
       "      <th>0</th>\n",
       "      <td>1/01/2022</td>\n",
       "      <td>Prestons</td>\n",
       "      <td>2170.0</td>\n",
       "      <td>4.0</td>\n",
       "      <td>2</td>\n",
       "      <td>2.0</td>\n",
       "      <td>House</td>\n",
       "      <td>15313.0</td>\n",
       "      <td>36244.0</td>\n",
       "      <td>9.215</td>\n",
       "      <td>-33.94155</td>\n",
       "      <td>150.87334</td>\n",
       "      <td>28.0</td>\n",
       "      <td>0.1</td>\n",
       "      <td>220.1</td>\n",
       "      <td>32.26</td>\n",
       "      <td>1087500</td>\n",
       "    </tr>\n",
       "    <tr>\n",
       "      <th>1</th>\n",
       "      <td>1/01/2022</td>\n",
       "      <td>Ourimbah</td>\n",
       "      <td>NaN</td>\n",
       "      <td>3.0</td>\n",
       "      <td>2</td>\n",
       "      <td>2.0</td>\n",
       "      <td>House</td>\n",
       "      <td>3951.0</td>\n",
       "      <td>37180.0</td>\n",
       "      <td>87.154</td>\n",
       "      <td>-33.31517</td>\n",
       "      <td>151.32611</td>\n",
       "      <td>191.0</td>\n",
       "      <td>0.1</td>\n",
       "      <td>220.1</td>\n",
       "      <td>61.95</td>\n",
       "      <td>1000000</td>\n",
       "    </tr>\n",
       "    <tr>\n",
       "      <th>2</th>\n",
       "      <td>31/12/2021</td>\n",
       "      <td>Kellyville</td>\n",
       "      <td>2155.0</td>\n",
       "      <td>4.0</td>\n",
       "      <td>3</td>\n",
       "      <td>2.0</td>\n",
       "      <td>House</td>\n",
       "      <td>27971.0</td>\n",
       "      <td>46228.0</td>\n",
       "      <td>18.645</td>\n",
       "      <td>-33.69583</td>\n",
       "      <td>150.95622</td>\n",
       "      <td>78.0</td>\n",
       "      <td>0.1</td>\n",
       "      <td>220.1</td>\n",
       "      <td>30.08</td>\n",
       "      <td>1900000</td>\n",
       "    </tr>\n",
       "    <tr>\n",
       "      <th>3</th>\n",
       "      <td>31/12/2021</td>\n",
       "      <td>Seven Hills</td>\n",
       "      <td>2147.0</td>\n",
       "      <td>7.0</td>\n",
       "      <td>3</td>\n",
       "      <td>2.0</td>\n",
       "      <td>House</td>\n",
       "      <td>19326.0</td>\n",
       "      <td>33540.0</td>\n",
       "      <td>9.629</td>\n",
       "      <td>-33.77743</td>\n",
       "      <td>150.94272</td>\n",
       "      <td>38.0</td>\n",
       "      <td>0.1</td>\n",
       "      <td>220.1</td>\n",
       "      <td>26.58</td>\n",
       "      <td>1300000</td>\n",
       "    </tr>\n",
       "    <tr>\n",
       "      <th>4</th>\n",
       "      <td>31/12/2021</td>\n",
       "      <td>Sydney</td>\n",
       "      <td>2000.0</td>\n",
       "      <td>2.0</td>\n",
       "      <td>2</td>\n",
       "      <td>1.0</td>\n",
       "      <td>Apartment / Unit / Flat</td>\n",
       "      <td>17252.0</td>\n",
       "      <td>35412.0</td>\n",
       "      <td>2.940</td>\n",
       "      <td>-33.86794</td>\n",
       "      <td>151.20998</td>\n",
       "      <td>65.0</td>\n",
       "      <td>0.1</td>\n",
       "      <td>220.1</td>\n",
       "      <td>0.31</td>\n",
       "      <td>1025000</td>\n",
       "    </tr>\n",
       "  </tbody>\n",
       "</table>\n",
       "</div>"
      ],
      "text/plain": [
       "         Date       suburb  postalCode  bed  bath  car  \\\n",
       "0   1/01/2022     Prestons      2170.0  4.0     2  2.0   \n",
       "1   1/01/2022     Ourimbah         NaN  3.0     2  2.0   \n",
       "2  31/12/2021   Kellyville      2155.0  4.0     3  2.0   \n",
       "3  31/12/2021  Seven Hills      2147.0  7.0     3  2.0   \n",
       "4  31/12/2021       Sydney      2000.0  2.0     2  1.0   \n",
       "\n",
       "                  propType  suburb_population  suburb_median_income  \\\n",
       "0                    House            15313.0               36244.0   \n",
       "1                    House             3951.0               37180.0   \n",
       "2                    House            27971.0               46228.0   \n",
       "3                    House            19326.0               33540.0   \n",
       "4  Apartment / Unit / Flat            17252.0               35412.0   \n",
       "\n",
       "   suburb_sqkm  suburb_lat  suburb_lng  suburb_elevation  cash_rate  \\\n",
       "0        9.215   -33.94155   150.87334              28.0        0.1   \n",
       "1       87.154   -33.31517   151.32611             191.0        0.1   \n",
       "2       18.645   -33.69583   150.95622              78.0        0.1   \n",
       "3        9.629   -33.77743   150.94272              38.0        0.1   \n",
       "4        2.940   -33.86794   151.20998              65.0        0.1   \n",
       "\n",
       "   property_inflation_index  km_from_cbd  sellPrice  \n",
       "0                     220.1        32.26    1087500  \n",
       "1                     220.1        61.95    1000000  \n",
       "2                     220.1        30.08    1900000  \n",
       "3                     220.1        26.58    1300000  \n",
       "4                     220.1         0.31    1025000  "
      ]
     },
     "execution_count": 81,
     "metadata": {},
     "output_type": "execute_result"
    }
   ],
   "source": [
    "# Show first five rows of data\n",
    "prop_sales = data\n",
    "prop_sales.head(5) "
   ]
  },
  {
   "cell_type": "markdown",
   "id": "eec0633f-62b8-43b2-8826-39ba46afe4b7",
   "metadata": {},
   "source": [
    "## Data Cleaning <a id=\"datacleaning\"></a>\n",
    "Although we will not be using the feature `Date` for the models, it will be used in the data cleaning process as an index. The data cleaning is organised as follows:\n",
    "1. Identify how many rows of each feature variable is missing.\n",
    "2. Remove rows with missing `property_inflation_index`\n",
    "3. Remove rows with missing `postalCode`\n",
    "   - Format as an integer\n",
    "4. Replace missing suburb-specific data with median values\n",
    "5. Format features `car`, `bed` and `bath` into floats\n",
    "6. Set missing `cash_rate` values to 1.5 (reasoning provided in report)\n",
    "7. Remove property sales with `sellPrice` below $100,000\n",
    "8. Merge 23 categories for `propType` into 10\n",
    "9. Remove `Date`, which is no longer needed"
   ]
  },
  {
   "cell_type": "code",
   "execution_count": 82,
   "id": "38dbea74-d5f1-4685-a8d7-52319fa43c44",
   "metadata": {
    "scrolled": true
   },
   "outputs": [
    {
     "name": "stdout",
     "output_type": "stream",
     "text": [
      "Missing values per variable:\n",
      "Date                            0\n",
      "suburb                          0\n",
      "postalCode                   1461\n",
      "bed                           154\n",
      "bath                            0\n",
      "car                         18151\n",
      "propType                        0\n",
      "suburb_population           14479\n",
      "suburb_median_income        14479\n",
      "suburb_sqkm                 14479\n",
      "suburb_lat                  14479\n",
      "suburb_lng                  14479\n",
      "suburb_elevation            14479\n",
      "cash_rate                     867\n",
      "property_inflation_index    32499\n",
      "km_from_cbd                 14479\n",
      "sellPrice                       0\n",
      "dtype: int64\n"
     ]
    }
   ],
   "source": [
    "# Format Date into yyyymmdd\n",
    "prop_sales['Date'] = pd.to_datetime(prop_sales['Date'], format='mixed')\n",
    "\n",
    "# Table of the number of missing values per variable \n",
    "missing_values = prop_sales.isnull().sum()\n",
    "print('Missing values per variable:')\n",
    "print(missing_values)"
   ]
  },
  {
   "cell_type": "code",
   "execution_count": 83,
   "id": "e55d5227-755c-4eb4-95ce-b0841537c701",
   "metadata": {},
   "outputs": [
    {
     "data": {
      "text/html": [
       "<div>\n",
       "<style scoped>\n",
       "    .dataframe tbody tr th:only-of-type {\n",
       "        vertical-align: middle;\n",
       "    }\n",
       "\n",
       "    .dataframe tbody tr th {\n",
       "        vertical-align: top;\n",
       "    }\n",
       "\n",
       "    .dataframe thead th {\n",
       "        text-align: right;\n",
       "    }\n",
       "</style>\n",
       "<table border=\"1\" class=\"dataframe\">\n",
       "  <thead>\n",
       "    <tr style=\"text-align: right;\">\n",
       "      <th></th>\n",
       "      <th>Date</th>\n",
       "      <th>suburb</th>\n",
       "      <th>postalCode</th>\n",
       "      <th>bed</th>\n",
       "      <th>bath</th>\n",
       "      <th>car</th>\n",
       "      <th>propType</th>\n",
       "      <th>suburb_population</th>\n",
       "      <th>suburb_median_income</th>\n",
       "      <th>suburb_sqkm</th>\n",
       "      <th>suburb_lat</th>\n",
       "      <th>suburb_lng</th>\n",
       "      <th>suburb_elevation</th>\n",
       "      <th>cash_rate</th>\n",
       "      <th>property_inflation_index</th>\n",
       "      <th>km_from_cbd</th>\n",
       "      <th>sellPrice</th>\n",
       "    </tr>\n",
       "  </thead>\n",
       "  <tbody>\n",
       "    <tr>\n",
       "      <th>6959</th>\n",
       "      <td>2000-01-12</td>\n",
       "      <td>Bondi Beach</td>\n",
       "      <td>2026.0</td>\n",
       "      <td>10.0</td>\n",
       "      <td>5</td>\n",
       "      <td>3.0</td>\n",
       "      <td>house</td>\n",
       "      <td>11656.0</td>\n",
       "      <td>64532.0</td>\n",
       "      <td>1.219</td>\n",
       "      <td>-33.89095</td>\n",
       "      <td>151.27247</td>\n",
       "      <td>18.0</td>\n",
       "      <td>NaN</td>\n",
       "      <td>NaN</td>\n",
       "      <td>6.46</td>\n",
       "      <td>3565000</td>\n",
       "    </tr>\n",
       "    <tr>\n",
       "      <th>6960</th>\n",
       "      <td>2006-04-01</td>\n",
       "      <td>Northmead</td>\n",
       "      <td>2152.0</td>\n",
       "      <td>4.0</td>\n",
       "      <td>2</td>\n",
       "      <td>2.0</td>\n",
       "      <td>house</td>\n",
       "      <td>11215.0</td>\n",
       "      <td>40924.0</td>\n",
       "      <td>4.286</td>\n",
       "      <td>-33.78379</td>\n",
       "      <td>150.99349</td>\n",
       "      <td>49.0</td>\n",
       "      <td>5.5</td>\n",
       "      <td>NaN</td>\n",
       "      <td>21.97</td>\n",
       "      <td>596000</td>\n",
       "    </tr>\n",
       "    <tr>\n",
       "      <th>6961</th>\n",
       "      <td>2006-01-17</td>\n",
       "      <td>Georges Hall</td>\n",
       "      <td>2198.0</td>\n",
       "      <td>5.0</td>\n",
       "      <td>1</td>\n",
       "      <td>1.0</td>\n",
       "      <td>house</td>\n",
       "      <td>9038.0</td>\n",
       "      <td>29640.0</td>\n",
       "      <td>3.323</td>\n",
       "      <td>-33.90761</td>\n",
       "      <td>150.98902</td>\n",
       "      <td>23.0</td>\n",
       "      <td>5.5</td>\n",
       "      <td>NaN</td>\n",
       "      <td>20.97</td>\n",
       "      <td>475000</td>\n",
       "    </tr>\n",
       "    <tr>\n",
       "      <th>6962</th>\n",
       "      <td>2006-01-19</td>\n",
       "      <td>Bondi Junction</td>\n",
       "      <td>2022.0</td>\n",
       "      <td>3.0</td>\n",
       "      <td>1</td>\n",
       "      <td>NaN</td>\n",
       "      <td>house</td>\n",
       "      <td>9445.0</td>\n",
       "      <td>54964.0</td>\n",
       "      <td>1.079</td>\n",
       "      <td>-33.89296</td>\n",
       "      <td>151.25030</td>\n",
       "      <td>89.0</td>\n",
       "      <td>5.5</td>\n",
       "      <td>NaN</td>\n",
       "      <td>4.85</td>\n",
       "      <td>750000</td>\n",
       "    </tr>\n",
       "    <tr>\n",
       "      <th>6963</th>\n",
       "      <td>2006-01-19</td>\n",
       "      <td>Tahmoor</td>\n",
       "      <td>2573.0</td>\n",
       "      <td>3.0</td>\n",
       "      <td>1</td>\n",
       "      <td>2.0</td>\n",
       "      <td>house</td>\n",
       "      <td>NaN</td>\n",
       "      <td>NaN</td>\n",
       "      <td>NaN</td>\n",
       "      <td>NaN</td>\n",
       "      <td>NaN</td>\n",
       "      <td>NaN</td>\n",
       "      <td>5.5</td>\n",
       "      <td>NaN</td>\n",
       "      <td>NaN</td>\n",
       "      <td>319000</td>\n",
       "    </tr>\n",
       "  </tbody>\n",
       "</table>\n",
       "</div>"
      ],
      "text/plain": [
       "           Date          suburb  postalCode   bed  bath  car propType  \\\n",
       "6959 2000-01-12     Bondi Beach      2026.0  10.0     5  3.0    house   \n",
       "6960 2006-04-01       Northmead      2152.0   4.0     2  2.0    house   \n",
       "6961 2006-01-17    Georges Hall      2198.0   5.0     1  1.0    house   \n",
       "6962 2006-01-19  Bondi Junction      2022.0   3.0     1  NaN    house   \n",
       "6963 2006-01-19         Tahmoor      2573.0   3.0     1  2.0    house   \n",
       "\n",
       "      suburb_population  suburb_median_income  suburb_sqkm  suburb_lat  \\\n",
       "6959            11656.0               64532.0        1.219   -33.89095   \n",
       "6960            11215.0               40924.0        4.286   -33.78379   \n",
       "6961             9038.0               29640.0        3.323   -33.90761   \n",
       "6962             9445.0               54964.0        1.079   -33.89296   \n",
       "6963                NaN                   NaN          NaN         NaN   \n",
       "\n",
       "      suburb_lng  suburb_elevation  cash_rate  property_inflation_index  \\\n",
       "6959   151.27247              18.0        NaN                       NaN   \n",
       "6960   150.99349              49.0        5.5                       NaN   \n",
       "6961   150.98902              23.0        5.5                       NaN   \n",
       "6962   151.25030              89.0        5.5                       NaN   \n",
       "6963         NaN               NaN        5.5                       NaN   \n",
       "\n",
       "      km_from_cbd  sellPrice  \n",
       "6959         6.46    3565000  \n",
       "6960        21.97     596000  \n",
       "6961        20.97     475000  \n",
       "6962         4.85     750000  \n",
       "6963          NaN     319000  "
      ]
     },
     "execution_count": 83,
     "metadata": {},
     "output_type": "execute_result"
    }
   ],
   "source": [
    "# Inspect sales which are missing property_inflation_index\n",
    "prop_sales[prop_sales['property_inflation_index'].isnull()].head(5)"
   ]
  },
  {
   "cell_type": "code",
   "execution_count": 84,
   "id": "565947c3-1f4b-4a5d-baf9-36cf8ccc127a",
   "metadata": {},
   "outputs": [],
   "source": [
    "# Drop rows with missing property_inflation_index\n",
    "prop_sales = prop_sales.dropna(subset=['property_inflation_index'])"
   ]
  },
  {
   "cell_type": "code",
   "execution_count": 85,
   "id": "78eec489-c14e-4127-a4f4-3908afd99912",
   "metadata": {},
   "outputs": [
    {
     "data": {
      "text/html": [
       "<div>\n",
       "<style scoped>\n",
       "    .dataframe tbody tr th:only-of-type {\n",
       "        vertical-align: middle;\n",
       "    }\n",
       "\n",
       "    .dataframe tbody tr th {\n",
       "        vertical-align: top;\n",
       "    }\n",
       "\n",
       "    .dataframe thead th {\n",
       "        text-align: right;\n",
       "    }\n",
       "</style>\n",
       "<table border=\"1\" class=\"dataframe\">\n",
       "  <thead>\n",
       "    <tr style=\"text-align: right;\">\n",
       "      <th></th>\n",
       "      <th>Date</th>\n",
       "      <th>suburb</th>\n",
       "      <th>postalCode</th>\n",
       "      <th>bed</th>\n",
       "      <th>bath</th>\n",
       "      <th>car</th>\n",
       "      <th>propType</th>\n",
       "      <th>suburb_population</th>\n",
       "      <th>suburb_median_income</th>\n",
       "      <th>suburb_sqkm</th>\n",
       "      <th>suburb_lat</th>\n",
       "      <th>suburb_lng</th>\n",
       "      <th>suburb_elevation</th>\n",
       "      <th>cash_rate</th>\n",
       "      <th>property_inflation_index</th>\n",
       "      <th>km_from_cbd</th>\n",
       "      <th>sellPrice</th>\n",
       "    </tr>\n",
       "  </thead>\n",
       "  <tbody>\n",
       "    <tr>\n",
       "      <th>1</th>\n",
       "      <td>2022-01-01</td>\n",
       "      <td>Ourimbah</td>\n",
       "      <td>NaN</td>\n",
       "      <td>3.0</td>\n",
       "      <td>2</td>\n",
       "      <td>2.0</td>\n",
       "      <td>House</td>\n",
       "      <td>3951.0</td>\n",
       "      <td>37180.0</td>\n",
       "      <td>87.154</td>\n",
       "      <td>-33.31517</td>\n",
       "      <td>151.32611</td>\n",
       "      <td>191.0</td>\n",
       "      <td>0.1</td>\n",
       "      <td>220.1</td>\n",
       "      <td>61.95</td>\n",
       "      <td>1000000</td>\n",
       "    </tr>\n",
       "    <tr>\n",
       "      <th>22</th>\n",
       "      <td>2021-12-24</td>\n",
       "      <td>Mannering Park</td>\n",
       "      <td>NaN</td>\n",
       "      <td>4.0</td>\n",
       "      <td>2</td>\n",
       "      <td>2.0</td>\n",
       "      <td>House</td>\n",
       "      <td>2472.0</td>\n",
       "      <td>28964.0</td>\n",
       "      <td>7.129</td>\n",
       "      <td>-33.16376</td>\n",
       "      <td>151.54040</td>\n",
       "      <td>7.0</td>\n",
       "      <td>0.1</td>\n",
       "      <td>220.1</td>\n",
       "      <td>83.63</td>\n",
       "      <td>2100000</td>\n",
       "    </tr>\n",
       "    <tr>\n",
       "      <th>23</th>\n",
       "      <td>2021-12-24</td>\n",
       "      <td>Mannering Park</td>\n",
       "      <td>NaN</td>\n",
       "      <td>2.0</td>\n",
       "      <td>2</td>\n",
       "      <td>2.0</td>\n",
       "      <td>House</td>\n",
       "      <td>2472.0</td>\n",
       "      <td>28964.0</td>\n",
       "      <td>7.129</td>\n",
       "      <td>-33.16376</td>\n",
       "      <td>151.54040</td>\n",
       "      <td>7.0</td>\n",
       "      <td>0.1</td>\n",
       "      <td>220.1</td>\n",
       "      <td>83.63</td>\n",
       "      <td>2050000</td>\n",
       "    </tr>\n",
       "    <tr>\n",
       "      <th>27</th>\n",
       "      <td>2021-12-24</td>\n",
       "      <td>Wyoming</td>\n",
       "      <td>NaN</td>\n",
       "      <td>5.0</td>\n",
       "      <td>3</td>\n",
       "      <td>3.0</td>\n",
       "      <td>House</td>\n",
       "      <td>10134.0</td>\n",
       "      <td>29380.0</td>\n",
       "      <td>7.138</td>\n",
       "      <td>-33.40534</td>\n",
       "      <td>151.36250</td>\n",
       "      <td>32.0</td>\n",
       "      <td>0.1</td>\n",
       "      <td>220.1</td>\n",
       "      <td>52.93</td>\n",
       "      <td>1450000</td>\n",
       "    </tr>\n",
       "    <tr>\n",
       "      <th>33</th>\n",
       "      <td>2021-12-24</td>\n",
       "      <td>Wyoming</td>\n",
       "      <td>NaN</td>\n",
       "      <td>4.0</td>\n",
       "      <td>2</td>\n",
       "      <td>2.0</td>\n",
       "      <td>House</td>\n",
       "      <td>10134.0</td>\n",
       "      <td>29380.0</td>\n",
       "      <td>7.138</td>\n",
       "      <td>-33.40534</td>\n",
       "      <td>151.36250</td>\n",
       "      <td>32.0</td>\n",
       "      <td>0.1</td>\n",
       "      <td>220.1</td>\n",
       "      <td>52.93</td>\n",
       "      <td>1200000</td>\n",
       "    </tr>\n",
       "  </tbody>\n",
       "</table>\n",
       "</div>"
      ],
      "text/plain": [
       "         Date          suburb  postalCode  bed  bath  car propType  \\\n",
       "1  2022-01-01        Ourimbah         NaN  3.0     2  2.0    House   \n",
       "22 2021-12-24  Mannering Park         NaN  4.0     2  2.0    House   \n",
       "23 2021-12-24  Mannering Park         NaN  2.0     2  2.0    House   \n",
       "27 2021-12-24         Wyoming         NaN  5.0     3  3.0    House   \n",
       "33 2021-12-24         Wyoming         NaN  4.0     2  2.0    House   \n",
       "\n",
       "    suburb_population  suburb_median_income  suburb_sqkm  suburb_lat  \\\n",
       "1              3951.0               37180.0       87.154   -33.31517   \n",
       "22             2472.0               28964.0        7.129   -33.16376   \n",
       "23             2472.0               28964.0        7.129   -33.16376   \n",
       "27            10134.0               29380.0        7.138   -33.40534   \n",
       "33            10134.0               29380.0        7.138   -33.40534   \n",
       "\n",
       "    suburb_lng  suburb_elevation  cash_rate  property_inflation_index  \\\n",
       "1    151.32611             191.0        0.1                     220.1   \n",
       "22   151.54040               7.0        0.1                     220.1   \n",
       "23   151.54040               7.0        0.1                     220.1   \n",
       "27   151.36250              32.0        0.1                     220.1   \n",
       "33   151.36250              32.0        0.1                     220.1   \n",
       "\n",
       "    km_from_cbd  sellPrice  \n",
       "1         61.95    1000000  \n",
       "22        83.63    2100000  \n",
       "23        83.63    2050000  \n",
       "27        52.93    1450000  \n",
       "33        52.93    1200000  "
      ]
     },
     "execution_count": 85,
     "metadata": {},
     "output_type": "execute_result"
    }
   ],
   "source": [
    "# Inspect sales which are missing postalCode\n",
    "prop_sales[prop_sales['postalCode'].isnull()].head(5)"
   ]
  },
  {
   "cell_type": "code",
   "execution_count": 86,
   "id": "6ded4ef1-63a0-4de3-bebb-0650ae3e9a10",
   "metadata": {},
   "outputs": [],
   "source": [
    "# Drop rows with missing postalCode\n",
    "prop_sales = prop_sales.dropna(subset=['postalCode'])\n",
    "\n",
    "# Format postalCode into integer\n",
    "prop_sales['postalCode'] = prop_sales['postalCode'].astype(int)"
   ]
  },
  {
   "cell_type": "code",
   "execution_count": 87,
   "id": "bf2cf306-bd2e-4add-97db-3d1f2ab5055b",
   "metadata": {},
   "outputs": [],
   "source": [
    "# Replace missing Suburb-Specific data with median values\n",
    "# Create function which replaces NA values with median (Adapted from Geron (2022))\n",
    "def fill_with_median(data):\n",
    "    return data.fillna(data.median())\n",
    "\n",
    "# List with suburb-specific variables\n",
    "suburb_data = [prop_sales.columns[3]] + [prop_sales.columns[5]] + prop_sales.columns[7:13].tolist() + [prop_sales.columns[15]]\n",
    "\n",
    "# Set missing values to median\n",
    "prop_sales[suburb_data] = prop_sales[suburb_data].apply(fill_with_median, axis=0)"
   ]
  },
  {
   "cell_type": "code",
   "execution_count": 88,
   "id": "43d553aa-050c-4ef6-a49a-7ea0734160f7",
   "metadata": {},
   "outputs": [],
   "source": [
    "# Format car into float\n",
    "prop_sales['car'] = prop_sales['car'].astype(float)\n",
    "\n",
    "# Format bed into float\n",
    "prop_sales['bed'] = prop_sales['bed'].astype(float)\n",
    "\n",
    "# Format bath into float\n",
    "prop_sales['bath'] = prop_sales['bath'].astype(float)"
   ]
  },
  {
   "cell_type": "code",
   "execution_count": 89,
   "id": "23655e5c-88c9-44ef-8a6e-3da20fabc730",
   "metadata": {},
   "outputs": [
    {
     "data": {
      "text/html": [
       "<div>\n",
       "<style scoped>\n",
       "    .dataframe tbody tr th:only-of-type {\n",
       "        vertical-align: middle;\n",
       "    }\n",
       "\n",
       "    .dataframe tbody tr th {\n",
       "        vertical-align: top;\n",
       "    }\n",
       "\n",
       "    .dataframe thead th {\n",
       "        text-align: right;\n",
       "    }\n",
       "</style>\n",
       "<table border=\"1\" class=\"dataframe\">\n",
       "  <thead>\n",
       "    <tr style=\"text-align: right;\">\n",
       "      <th></th>\n",
       "      <th>Date</th>\n",
       "      <th>suburb</th>\n",
       "      <th>postalCode</th>\n",
       "      <th>bed</th>\n",
       "      <th>bath</th>\n",
       "      <th>car</th>\n",
       "      <th>propType</th>\n",
       "      <th>suburb_population</th>\n",
       "      <th>suburb_median_income</th>\n",
       "      <th>suburb_sqkm</th>\n",
       "      <th>suburb_lat</th>\n",
       "      <th>suburb_lng</th>\n",
       "      <th>suburb_elevation</th>\n",
       "      <th>cash_rate</th>\n",
       "      <th>property_inflation_index</th>\n",
       "      <th>km_from_cbd</th>\n",
       "      <th>sellPrice</th>\n",
       "    </tr>\n",
       "  </thead>\n",
       "  <tbody>\n",
       "    <tr>\n",
       "      <th>152107</th>\n",
       "      <td>2019-01-01</td>\n",
       "      <td>West Pennant Hills</td>\n",
       "      <td>2125</td>\n",
       "      <td>4.0</td>\n",
       "      <td>3.0</td>\n",
       "      <td>3.0</td>\n",
       "      <td>house</td>\n",
       "      <td>16374.0</td>\n",
       "      <td>45500.0</td>\n",
       "      <td>9.292</td>\n",
       "      <td>-33.74763</td>\n",
       "      <td>151.03335</td>\n",
       "      <td>109.0</td>\n",
       "      <td>NaN</td>\n",
       "      <td>160.5</td>\n",
       "      <td>20.91</td>\n",
       "      <td>2300000</td>\n",
       "    </tr>\n",
       "    <tr>\n",
       "      <th>152108</th>\n",
       "      <td>2019-01-01</td>\n",
       "      <td>Kogarah Bay</td>\n",
       "      <td>2217</td>\n",
       "      <td>5.0</td>\n",
       "      <td>3.0</td>\n",
       "      <td>3.0</td>\n",
       "      <td>house</td>\n",
       "      <td>2022.0</td>\n",
       "      <td>36504.0</td>\n",
       "      <td>0.665</td>\n",
       "      <td>-33.98260</td>\n",
       "      <td>151.12424</td>\n",
       "      <td>19.0</td>\n",
       "      <td>NaN</td>\n",
       "      <td>160.5</td>\n",
       "      <td>15.25</td>\n",
       "      <td>1800000</td>\n",
       "    </tr>\n",
       "    <tr>\n",
       "      <th>153349</th>\n",
       "      <td>2019-01-13</td>\n",
       "      <td>Greystanes</td>\n",
       "      <td>2145</td>\n",
       "      <td>3.0</td>\n",
       "      <td>1.0</td>\n",
       "      <td>2.0</td>\n",
       "      <td>house</td>\n",
       "      <td>22802.0</td>\n",
       "      <td>33800.0</td>\n",
       "      <td>8.969</td>\n",
       "      <td>-33.82378</td>\n",
       "      <td>150.93855</td>\n",
       "      <td>62.0</td>\n",
       "      <td>NaN</td>\n",
       "      <td>160.5</td>\n",
       "      <td>25.53</td>\n",
       "      <td>735000</td>\n",
       "    </tr>\n",
       "    <tr>\n",
       "      <th>153350</th>\n",
       "      <td>2019-01-13</td>\n",
       "      <td>Cabramatta</td>\n",
       "      <td>2166</td>\n",
       "      <td>3.0</td>\n",
       "      <td>1.0</td>\n",
       "      <td>1.0</td>\n",
       "      <td>house</td>\n",
       "      <td>21783.0</td>\n",
       "      <td>20644.0</td>\n",
       "      <td>5.042</td>\n",
       "      <td>-33.89828</td>\n",
       "      <td>150.93609</td>\n",
       "      <td>14.0</td>\n",
       "      <td>NaN</td>\n",
       "      <td>160.5</td>\n",
       "      <td>25.60</td>\n",
       "      <td>1830000</td>\n",
       "    </tr>\n",
       "    <tr>\n",
       "      <th>153351</th>\n",
       "      <td>2019-01-13</td>\n",
       "      <td>Lansvale</td>\n",
       "      <td>2166</td>\n",
       "      <td>3.0</td>\n",
       "      <td>1.0</td>\n",
       "      <td>2.0</td>\n",
       "      <td>house</td>\n",
       "      <td>2570.0</td>\n",
       "      <td>25376.0</td>\n",
       "      <td>2.893</td>\n",
       "      <td>-33.89877</td>\n",
       "      <td>150.96071</td>\n",
       "      <td>5.0</td>\n",
       "      <td>NaN</td>\n",
       "      <td>160.5</td>\n",
       "      <td>23.35</td>\n",
       "      <td>710000</td>\n",
       "    </tr>\n",
       "  </tbody>\n",
       "</table>\n",
       "</div>"
      ],
      "text/plain": [
       "             Date              suburb  postalCode  bed  bath  car propType  \\\n",
       "152107 2019-01-01  West Pennant Hills        2125  4.0   3.0  3.0    house   \n",
       "152108 2019-01-01         Kogarah Bay        2217  5.0   3.0  3.0    house   \n",
       "153349 2019-01-13          Greystanes        2145  3.0   1.0  2.0    house   \n",
       "153350 2019-01-13          Cabramatta        2166  3.0   1.0  1.0    house   \n",
       "153351 2019-01-13            Lansvale        2166  3.0   1.0  2.0    house   \n",
       "\n",
       "        suburb_population  suburb_median_income  suburb_sqkm  suburb_lat  \\\n",
       "152107            16374.0               45500.0        9.292   -33.74763   \n",
       "152108             2022.0               36504.0        0.665   -33.98260   \n",
       "153349            22802.0               33800.0        8.969   -33.82378   \n",
       "153350            21783.0               20644.0        5.042   -33.89828   \n",
       "153351             2570.0               25376.0        2.893   -33.89877   \n",
       "\n",
       "        suburb_lng  suburb_elevation  cash_rate  property_inflation_index  \\\n",
       "152107   151.03335             109.0        NaN                     160.5   \n",
       "152108   151.12424              19.0        NaN                     160.5   \n",
       "153349   150.93855              62.0        NaN                     160.5   \n",
       "153350   150.93609              14.0        NaN                     160.5   \n",
       "153351   150.96071               5.0        NaN                     160.5   \n",
       "\n",
       "        km_from_cbd  sellPrice  \n",
       "152107        20.91    2300000  \n",
       "152108        15.25    1800000  \n",
       "153349        25.53     735000  \n",
       "153350        25.60    1830000  \n",
       "153351        23.35     710000  "
      ]
     },
     "execution_count": 89,
     "metadata": {},
     "output_type": "execute_result"
    }
   ],
   "source": [
    "# Inspect sales which are missing cash_rate            \n",
    "prop_sales[prop_sales['cash_rate'].isnull()].sort_values(by='Date').head(5)"
   ]
  },
  {
   "cell_type": "code",
   "execution_count": 90,
   "id": "644b653a-f3a4-4844-8582-6e5c9824304d",
   "metadata": {},
   "outputs": [],
   "source": [
    "# Set missing cash_rate values to 1.5\n",
    "prop_sales[\"cash_rate\"].fillna(1.5, inplace=True)"
   ]
  },
  {
   "cell_type": "code",
   "execution_count": 91,
   "id": "d3c8a580-0a10-4403-8078-0512b2d46a92",
   "metadata": {},
   "outputs": [
    {
     "data": {
      "text/plain": [
       "Date                        0\n",
       "suburb                      0\n",
       "postalCode                  0\n",
       "bed                         0\n",
       "bath                        0\n",
       "car                         0\n",
       "propType                    0\n",
       "suburb_population           0\n",
       "suburb_median_income        0\n",
       "suburb_sqkm                 0\n",
       "suburb_lat                  0\n",
       "suburb_lng                  0\n",
       "suburb_elevation            0\n",
       "cash_rate                   0\n",
       "property_inflation_index    0\n",
       "km_from_cbd                 0\n",
       "sellPrice                   0\n",
       "dtype: int64"
      ]
     },
     "execution_count": 91,
     "metadata": {},
     "output_type": "execute_result"
    }
   ],
   "source": [
    "# New table of missing values per variable for verification\n",
    "prop_sales.isnull().sum()"
   ]
  },
  {
   "cell_type": "code",
   "execution_count": 92,
   "id": "b05d4dd5-928f-4257-a173-5492ce1156c4",
   "metadata": {},
   "outputs": [],
   "source": [
    "# Remove properties with sellPrice below $100,000\n",
    "prop_sales = prop_sales[prop_sales[\"sellPrice\"] >= 100000]"
   ]
  },
  {
   "cell_type": "code",
   "execution_count": 93,
   "id": "1a85946f-082e-4167-b37b-8279ea422ab5",
   "metadata": {},
   "outputs": [
    {
     "data": {
      "text/plain": [
       "array(['House', 'Apartment', 'Semi-Detached', 'Vacant Land', 'Duplex',\n",
       "       'Townhouse', 'Terrace', 'Acreage', 'Warehouse', 'Other'],\n",
       "      dtype=object)"
      ]
     },
     "execution_count": 93,
     "metadata": {},
     "output_type": "execute_result"
    }
   ],
   "source": [
    "# Values which propType can take\n",
    "prop_sales[\"propType\"].unique()\n",
    "\n",
    "# Define new categorical variables for propType in dictionary\n",
    "replace_dict = {\n",
    "    'house': 'House',\n",
    "    'Apartment / Unit / Flat': 'Apartment',\n",
    "    'Block of Units': 'Apartment',\n",
    "    'TownHouse': 'Townhouse', \n",
    "    'townHouse': 'Townhouse', \n",
    "    'Villa': 'Townhouse', \n",
    "    'New Apartments / Off the Plan': 'Apartment',\n",
    "    'New House & Land': 'House',\n",
    "    'Acreage / Semi-Rural' : 'Acreage',\n",
    "    'Development Site': 'Vacant Land',\n",
    "    'Studio': 'House',\n",
    "    'duplex/semi-detached': 'Semi-Detached',\n",
    "    'townhouse': 'Townhouse', \n",
    "    'terrace': 'Terrace',\n",
    "    'villa': 'Townhouse',\n",
    "    'acreage': 'Acreage',\n",
    "    'New land': 'Vacant Land',\n",
    "    'wareHouse': 'Warehouse',\n",
    "    'warehouse': 'Warehouse',\n",
    "    'Vacant land': 'Vacant Land',\n",
    "    'other': 'Other'\n",
    "}\n",
    "\n",
    "prop_sales[\"propType\"].replace(replace_dict, inplace=True)\n",
    "\n",
    "# New categorical values for propType\n",
    "prop_sales[\"propType\"].unique()"
   ]
  },
  {
   "cell_type": "code",
   "execution_count": 94,
   "id": "c91152f3-10ee-4900-a13d-bb05765d656b",
   "metadata": {},
   "outputs": [],
   "source": [
    "# Remove Date feature\n",
    "prop_sales = prop_sales.drop(columns=[\"Date\"])"
   ]
  },
  {
   "cell_type": "markdown",
   "id": "a8fe88b2-3ca0-4024-a047-9c4c13839316",
   "metadata": {},
   "source": [
    "## Exploratory Data Analysis (EDA) <a id=\"eda\"></a>\n",
    "The EDA is composed of four main parts in addition to the calculation of additional numerical statistics.\n",
    "1. [Distribution of property sales (indexed to 2011 $)](#hist)\n",
    "2. [Correlation matrix between features](#corr)\n",
    "3. [Scatterplot of property price vs. distance to CBD](#scatter)\n",
    "4. [Mean property prices by type](#column)\n",
    "\n",
    "All plots can be downloaded to local libraries. Just remove the `###` in the last line of the respective cell."
   ]
  },
  {
   "cell_type": "code",
   "execution_count": 95,
   "id": "c094e6e2-0ad6-4f81-bd08-c01251e540d5",
   "metadata": {},
   "outputs": [
    {
     "data": {
      "text/plain": [
       "745115.856428896"
      ]
     },
     "execution_count": 95,
     "metadata": {},
     "output_type": "execute_result"
    }
   ],
   "source": [
    "# Median property price, adjusted for housing inflation\n",
    "(prop_sales[\"sellPrice\"]/prop_sales[\"property_inflation_index\"]*100).median()"
   ]
  },
  {
   "cell_type": "markdown",
   "id": "4f015040-2d42-42ae-89b0-8f7303b86ad3",
   "metadata": {},
   "source": [
    "### Histogram of property prices <a id=\"hist\"></a>"
   ]
  },
  {
   "cell_type": "code",
   "execution_count": 39,
   "id": "3ef0c3c5-fff8-47b7-b41e-86f556156334",
   "metadata": {},
   "outputs": [
    {
     "data": {
      "image/png": "[encoded data removed]",
      "text/plain": [
       "<Figure size 640x480 with 1 Axes>"
      ]
     },
     "metadata": {},
     "output_type": "display_data"
    }
   ],
   "source": [
    "# Create histogram with sellPrice divided by property_inflation_index to use 2011 $\n",
    "plt.hist((prop_sales[\"sellPrice\"]/prop_sales[\"property_inflation_index\"])/10000, bins = 500, density=True, edgecolor=\"black\")\n",
    "\n",
    "# Domain of x axis\n",
    "plt.xlim(0, 6)\n",
    "\n",
    "# Add title\n",
    "plt.title(\"Relative Frequency Histogram of Property Prices\")\n",
    "\n",
    "# Add axes labels\n",
    "plt.xlabel(\"Selling Price (millions, $)\")\n",
    "plt.ylabel(\"Relative Frequency\");\n",
    "\n",
    "### Export figure into Downloads folder\n",
    "### plt.rcParams['svg.fonttype'] = 'none'\n",
    "### plt.savefig('Downloads/property_price_histogram.svg', format='svg')"
   ]
  },
  {
   "cell_type": "markdown",
   "id": "a2253cca-4b48-4982-9939-e725f44a15b6",
   "metadata": {},
   "source": [
    "### Correlation Matrix <a id=\"corr\"></a>"
   ]
  },
  {
   "cell_type": "code",
   "execution_count": 194,
   "id": "4d834013-87c7-458c-8547-4242b62cd900",
   "metadata": {},
   "outputs": [
    {
     "data": {
      "image/png": "[encoded data removed]",
      "text/plain": [
       "<Figure size 640x480 with 2 Axes>"
      ]
     },
     "metadata": {},
     "output_type": "display_data"
    }
   ],
   "source": [
    "corr_df = prop_sales.drop(columns=['postalCode'])\n",
    "corr_matrix = (corr_df.select_dtypes(include=['float64', 'int32', 'int64'])).corr()\n",
    "\n",
    "# Visualize the correlation matrix using a heatmap (Adapted from ChatGPT)\n",
    "plt.imshow(corr_matrix, cmap='coolwarm', interpolation='nearest')\n",
    "plt.colorbar()\n",
    "\n",
    "# Adding labels to the plot\n",
    "num_vars = corr_matrix.shape[0]\n",
    "plt.xticks(np.arange(num_vars), corr_matrix.columns, rotation=45, ha='right')\n",
    "plt.yticks(np.arange(num_vars), corr_matrix.index)\n",
    "\n",
    "plt.tight_layout()\n",
    "\n",
    "### Export figure into Downloads folder\n",
    "### plt.savefig('Downloads/correlation_matrix.svg', format='svg')"
   ]
  },
  {
   "cell_type": "markdown",
   "id": "93fe8103-3dbc-43e4-b966-bc6fcca223ea",
   "metadata": {},
   "source": [
    "### Scatterplot of Price vs. Distance from CBD <a id=\"scatter\"></a>"
   ]
  },
  {
   "cell_type": "code",
   "execution_count": 195,
   "id": "7d643807-c443-435e-8677-9baf4ec62d3b",
   "metadata": {},
   "outputs": [
    {
     "data": {
      "image/png": "[encoded data removed]",
      "text/plain": [
       "<Figure size 640x480 with 1 Axes>"
      ]
     },
     "metadata": {},
     "output_type": "display_data"
    }
   ],
   "source": [
    "plt.scatter(prop_sales[\"km_from_cbd\"], (prop_sales[\"sellPrice\"]/prop_sales[\"property_inflation_index\"])/10000, s=1)\n",
    "\n",
    "# Add title\n",
    "plt.title(\"Scatterplot of Property Price Compared to Distance from CBD\")\n",
    "\n",
    "# Add axes labels\n",
    "plt.xlabel(\"Distance from CBD (km)\")\n",
    "plt.ylabel(\"Selling Price (millions, $)\");\n",
    "\n",
    "### Export figure into Downloads folder\n",
    "### plt.savefig('Downloads/distance_scatter.svg', format='svg')"
   ]
  },
  {
   "cell_type": "markdown",
   "id": "95f68cf7-4504-4446-a95e-de7b826b3510",
   "metadata": {},
   "source": [
    "### Mean Property Prices by Property Type <a id=\"column\"></a>"
   ]
  },
  {
   "cell_type": "code",
   "execution_count": 199,
   "id": "9d384368-600f-41f6-80f3-ffc1dc84af73",
   "metadata": {},
   "outputs": [
    {
     "data": {
      "image/png": "[encoded data removed]",
      "text/plain": [
       "<Figure size 640x480 with 1 Axes>"
      ]
     },
     "metadata": {},
     "output_type": "display_data"
    }
   ],
   "source": [
    "# Find mean price of each type of property\n",
    "mean_values = (prop_sales.groupby(\"propType\")[\"sellPrice\"].mean())/1000000\n",
    "\n",
    "# Create bar graph\n",
    "plt.bar(mean_values.index, mean_values.values)\n",
    "\n",
    "# Rotate x labels \n",
    "plt.xticks(rotation=45, ha='right')\n",
    "\n",
    "# Axis titles\n",
    "plt.xlabel(\"Property Type\")\n",
    "plt.ylabel(\"Selling Price (millions, $)\")\n",
    "plt.title(\"Mean Property Prices by Type\")\n",
    "plt.tight_layout()\n",
    "\n",
    "### Export figure into Downloads folder\n",
    "### plt.savefig('Downloads/propType.svg', format='svg')"
   ]
  },
  {
   "cell_type": "markdown",
   "id": "d5feb8f0-0072-4ec5-86b2-c662b345b786",
   "metadata": {},
   "source": [
    "## Random Forest Model <a id=\"RFmodel\"></a>\n",
    "This section is split into 5 sections.\n",
    "1. Encoding of categorical variables\n",
    "2. Creation of main and test sets\n",
    "   - The main set is used as training for this model, but will later be further split into training and validation for the neural networks. This maximises the amount of data the random forest can be trained on.\n",
    "3. Training model\n",
    "4. Creation of `evaluate_RF` and `log_normal_nll` functions which allow the Negative Log-Likelihood (NLL) to be estimated under the assumption of a log-normal distribution.\n",
    "5. Evaluating model on training and test sets"
   ]
  },
  {
   "cell_type": "code",
   "execution_count": 96,
   "id": "3cb29ce6-2aeb-4f73-b793-c39c6014a69b",
   "metadata": {},
   "outputs": [],
   "source": [
    "# Encode Categorical Variables\n",
    "prop_sales_encoded = pd.get_dummies(prop_sales, columns=['suburb', 'propType', 'postalCode'], drop_first=True)"
   ]
  },
  {
   "cell_type": "code",
   "execution_count": 97,
   "id": "9d84c544-e9ee-46c4-a22e-17c26bca731b",
   "metadata": {},
   "outputs": [],
   "source": [
    "# Separate feature and target variables\n",
    "features = prop_sales_encoded.drop(columns=['sellPrice'])\n",
    "target = prop_sales_encoded['sellPrice'].astype(float)\n",
    "\n",
    "# Split to Training and Test Sets for both Baseline and Neural Network Models\n",
    "X_main, X_test, y_main, y_test = train_test_split(features, target, test_size=0.2, random_state=2024)"
   ]
  },
  {
   "cell_type": "code",
   "execution_count": 78,
   "id": "a413af2d-a686-42f7-a951-8741878d088a",
   "metadata": {},
   "outputs": [
    {
     "name": "stdout",
     "output_type": "stream",
     "text": [
      "CPU times: total: 6min 6s\n",
      "Wall time: 8min 28s\n"
     ]
    },
    {
     "data": {
      "text/html": [
       "<style>#sk-container-id-9 {color: black;background-color: white;}#sk-container-id-9 pre{padding: 0;}#sk-container-id-9 div.sk-toggleable {background-color: white;}#sk-container-id-9 label.sk-toggleable__label {cursor: pointer;display: block;width: 100%;margin-bottom: 0;padding: 0.3em;box-sizing: border-box;text-align: center;}#sk-container-id-9 label.sk-toggleable__label-arrow:before {content: \"▸\";float: left;margin-right: 0.25em;color: #696969;}#sk-container-id-9 label.sk-toggleable__label-arrow:hover:before {color: black;}#sk-container-id-9 div.sk-estimator:hover label.sk-toggleable__label-arrow:before {color: black;}#sk-container-id-9 div.sk-toggleable__content {max-height: 0;max-width: 0;overflow: hidden;text-align: left;background-color: #f0f8ff;}#sk-container-id-9 div.sk-toggleable__content pre {margin: 0.2em;color: black;border-radius: 0.25em;background-color: #f0f8ff;}#sk-container-id-9 input.sk-toggleable__control:checked~div.sk-toggleable__content {max-height: 200px;max-width: 100%;overflow: auto;}#sk-container-id-9 input.sk-toggleable__control:checked~label.sk-toggleable__label-arrow:before {content: \"▾\";}#sk-container-id-9 div.sk-estimator input.sk-toggleable__control:checked~label.sk-toggleable__label {background-color: #d4ebff;}#sk-container-id-9 div.sk-label input.sk-toggleable__control:checked~label.sk-toggleable__label {background-color: #d4ebff;}#sk-container-id-9 input.sk-hidden--visually {border: 0;clip: rect(1px 1px 1px 1px);clip: rect(1px, 1px, 1px, 1px);height: 1px;margin: -1px;overflow: hidden;padding: 0;position: absolute;width: 1px;}#sk-container-id-9 div.sk-estimator {font-family: monospace;background-color: #f0f8ff;border: 1px dotted black;border-radius: 0.25em;box-sizing: border-box;margin-bottom: 0.5em;}#sk-container-id-9 div.sk-estimator:hover {background-color: #d4ebff;}#sk-container-id-9 div.sk-parallel-item::after {content: \"\";width: 100%;border-bottom: 1px solid gray;flex-grow: 1;}#sk-container-id-9 div.sk-label:hover label.sk-toggleable__label {background-color: #d4ebff;}#sk-container-id-9 div.sk-serial::before {content: \"\";position: absolute;border-left: 1px solid gray;box-sizing: border-box;top: 0;bottom: 0;left: 50%;z-index: 0;}#sk-container-id-9 div.sk-serial {display: flex;flex-direction: column;align-items: center;background-color: white;padding-right: 0.2em;padding-left: 0.2em;position: relative;}#sk-container-id-9 div.sk-item {position: relative;z-index: 1;}#sk-container-id-9 div.sk-parallel {display: flex;align-items: stretch;justify-content: center;background-color: white;position: relative;}#sk-container-id-9 div.sk-item::before, #sk-container-id-9 div.sk-parallel-item::before {content: \"\";position: absolute;border-left: 1px solid gray;box-sizing: border-box;top: 0;bottom: 0;left: 50%;z-index: -1;}#sk-container-id-9 div.sk-parallel-item {display: flex;flex-direction: column;z-index: 1;position: relative;background-color: white;}#sk-container-id-9 div.sk-parallel-item:first-child::after {align-self: flex-end;width: 50%;}#sk-container-id-9 div.sk-parallel-item:last-child::after {align-self: flex-start;width: 50%;}#sk-container-id-9 div.sk-parallel-item:only-child::after {width: 0;}#sk-container-id-9 div.sk-dashed-wrapped {border: 1px dashed gray;margin: 0 0.4em 0.5em 0.4em;box-sizing: border-box;padding-bottom: 0.4em;background-color: white;}#sk-container-id-9 div.sk-label label {font-family: monospace;font-weight: bold;display: inline-block;line-height: 1.2em;}#sk-container-id-9 div.sk-label-container {text-align: center;}#sk-container-id-9 div.sk-container {/* jupyter's `normalize.less` sets `[hidden] { display: none; }` but bootstrap.min.css set `[hidden] { display: none !important; }` so we also need the `!important` here to be able to override the default hidden behavior on the sphinx rendered scikit-learn.org. See: https://github.com/scikit-learn/scikit-learn/issues/21755 */display: inline-block !important;position: relative;}#sk-container-id-9 div.sk-text-repr-fallback {display: none;}</style><div id=\"sk-container-id-9\" class=\"sk-top-container\"><div class=\"sk-text-repr-fallback\"><pre>RandomForestRegressor(bootstrap=False, random_state=42)</pre><b>In a Jupyter environment, please rerun this cell to show the HTML representation or trust the notebook. <br />On GitHub, the HTML representation is unable to render, please try loading this page with nbviewer.org.</b></div><div class=\"sk-container\" hidden><div class=\"sk-item\"><div class=\"sk-estimator sk-toggleable\"><input class=\"sk-toggleable__control sk-hidden--visually\" id=\"sk-estimator-id-9\" type=\"checkbox\" checked><label for=\"sk-estimator-id-9\" class=\"sk-toggleable__label sk-toggleable__label-arrow\">RandomForestRegressor</label><div class=\"sk-toggleable__content\"><pre>RandomForestRegressor(bootstrap=False, random_state=42)</pre></div></div></div></div></div>"
      ],
      "text/plain": [
       "RandomForestRegressor(bootstrap=False, random_state=42)"
      ]
     },
     "execution_count": 78,
     "metadata": {},
     "output_type": "execute_result"
    }
   ],
   "source": [
    "%%time\n",
    "\n",
    "# Train BASELINE Random Forest Model\n",
    "forest_reg = RandomForestRegressor(n_estimators=100, bootstrap=False, random_state=42, verbose=0)\n",
    "forest_reg.fit(X_main, np.log(y_main))"
   ]
  },
  {
   "cell_type": "markdown",
   "id": "5b7b5150-e9ad-4990-b924-7781b71ab2e3",
   "metadata": {},
   "source": [
    "The NLL calculation involved directly computing the P.D.F. The NLL could not be estimated directly as `np.log` and `norm.logpdf` are from the NumPy and SciPy libraries respectively which are not compatible with Tensorflow. The NumPy/SciPy functions are more suitable for static computation rather than automatic differentiation. Although this is more relevant for the neural networks, for consistency, the same methodology was used for calculating the NLL for the random forest."
   ]
  },
  {
   "cell_type": "code",
   "execution_count": 98,
   "id": "541488d1-d268-413c-a4e5-147e4d952c4f",
   "metadata": {},
   "outputs": [],
   "source": [
    "# Define function which evaulates RF with NLL as metric\n",
    "#### The standard deviation of the predictions is estimated as the standard deviation of the residuals\n",
    "def evaluate_RF(model, X, y_true):\n",
    "    mean  = model.predict(X)\n",
    "\n",
    "    residuals = mean - np.log(y_true)\n",
    "    sigma = max(np.std(residuals), 1e-10)\n",
    "\n",
    "    # Compute log-likelihood for log-normal distribution\n",
    "    log_likelihood = -0.5 * ((np.log(y_true) - mean) ** 2 / (sigma ** 2)) - np.log(y_true) - 0.5 * np.log(2 * np.pi) - np.log(sigma)\n",
    "    nll = np.round(-np.mean(log_likelihood), 4)\n",
    "    \n",
    "    print(f'Negative Log-Likelihood: {nll}')"
   ]
  },
  {
   "cell_type": "code",
   "execution_count": 76,
   "id": "ccace96f-2e3a-4ee4-a547-db8f3af6a77f",
   "metadata": {},
   "outputs": [
    {
     "name": "stdout",
     "output_type": "stream",
     "text": [
      "Negative Log-Likelihood: 14.7236\n"
     ]
    }
   ],
   "source": [
    "# Run model on training set\n",
    "evaluate_RF(forest_reg, X_main, y_main)"
   ]
  },
  {
   "cell_type": "code",
   "execution_count": 77,
   "id": "eb281e3c-86b4-43e9-a553-03b281d66c02",
   "metadata": {},
   "outputs": [
    {
     "name": "stdout",
     "output_type": "stream",
     "text": [
      "Negative Log-Likelihood: 15.1564\n"
     ]
    }
   ],
   "source": [
    "# Run model on test set\n",
    "evaluate_RF(forest_reg, X_test, y_test)"
   ]
  },
  {
   "cell_type": "markdown",
   "id": "6b66848c-7321-47c4-9231-a48c922a85f8",
   "metadata": {},
   "source": [
    "## Neural Network 1 <a id=\"NN1\"></a>\n",
    "This is a simple feedforward network. This section is split into 7 sections.\n",
    "1. Creation of training, validation and test sets\n",
    "2. Pre-processing inputs\n",
    "3. Defining a `nll_loss` function which is used as the loss function\n",
    "4. Hyperparameter tuning of model based on `val_loss` with summary of all combinations of parameters used\n",
    "5. Train neural network with network with best hyperparameters\n",
    "6. Defining a `evaluate_NN` function which allows the Negative Log-Likelihood (NLL) to be calculated based on the mean and sd outputs from the neural network.\n",
    "7. Evaluating model on training, validation and test sets\n",
    "   - This includes the creation of a loss curve"
   ]
  },
  {
   "cell_type": "code",
   "execution_count": 99,
   "id": "8bc579dd-07df-4832-9989-f8b51b8a72a2",
   "metadata": {},
   "outputs": [],
   "source": [
    "# Separate feature and target variables\n",
    "features = prop_sales.drop(columns=['sellPrice'])\n",
    "target = prop_sales['sellPrice'].astype(float)\n",
    "\n",
    "# Split to Training, Validation and Test Sets for both Neural Network Models\n",
    "X_mainNN, X_testNN, y_mainNN, y_testNN = train_test_split(features, target, test_size=0.2, random_state=2024)\n",
    "X_trainNN, X_valNN, y_trainNN, y_valNN = train_test_split(X_mainNN, y_mainNN, test_size=0.25, random_state=2024)"
   ]
  },
  {
   "cell_type": "code",
   "execution_count": 100,
   "id": "55065cd4-a2c3-4083-8522-b2541a362e51",
   "metadata": {},
   "outputs": [],
   "source": [
    "# Pre-process inputs\n",
    "## One-hot encording on all Categorical Variables\n",
    "all_attribs = list(features.columns)\n",
    "cat_attribs = [\"suburb\", \"postalCode\", \"propType\"]\n",
    "num_attribs = [attrib for attrib in all_attribs if attrib not in cat_attribs]\n",
    "transform_pipeline = ColumnTransformer([\n",
    "    (\"num\", StandardScaler(), num_attribs),\n",
    "    (\"cat\", OneHotEncoder(sparse_output=False, handle_unknown='ignore'), cat_attribs),\n",
    "])\n",
    "\n",
    "X_train_oh = transform_pipeline.fit_transform(X_trainNN)\n",
    "X_val_oh = transform_pipeline.transform(X_valNN)\n",
    "X_test_oh = transform_pipeline.transform(X_testNN)"
   ]
  },
  {
   "cell_type": "code",
   "execution_count": 101,
   "id": "bff6938e-a7fa-4563-bbfe-99bc47f0d094",
   "metadata": {},
   "outputs": [],
   "source": [
    "# Define NLL loss function (Adapted from ChatGPT)\n",
    "def nll_loss(y_true, y_pred):\n",
    "    # As true y values are entered in log space, they need to be converted to unit form\n",
    "    y_true = tf.math.exp(y_true)\n",
    "    \n",
    "    # First column output is the mean, second column in the std dev\n",
    "    mean = y_pred[:, 0]\n",
    "    sigma = y_pred[:, 1]\n",
    "    \n",
    "    # Compute log-likelihood for log-normal distribution\n",
    "    log_likelihood = -0.5 * ((tf.math.log(y_true) - mean) ** 2 / (sigma ** 2)) - tf.math.log(y_true) - 0.5 * tf.math.log(2 * np.pi) - tf.math.log(sigma)\n",
    "    \n",
    "    return -tf.reduce_mean(log_likelihood)"
   ]
  },
  {
   "cell_type": "code",
   "execution_count": 29,
   "id": "0be6f933-d08b-43e7-86e4-a3eaf0bf4e92",
   "metadata": {},
   "outputs": [
    {
     "name": "stdout",
     "output_type": "stream",
     "text": [
      "Trial 10 Complete [00h 14m 21s]\n",
      "val_loss: 14.725103378295898\n",
      "\n",
      "Best val_loss So Far: 14.722869873046875\n",
      "Total elapsed time: 01h 43m 54s\n"
     ]
    }
   ],
   "source": [
    "# Hyper-parameter tuning\n",
    "num_features = len(X_train_oh.columns)\n",
    "\n",
    "def build_model1(hp):\n",
    "    input_ = Input(shape=(num_features,), name=\"input\")\n",
    "\n",
    "    #Tuning number of neurons of first hidden layer\n",
    "    hidden1_units = hp.Int('hidden1_units', min_value=112, max_value=256, step=16)\n",
    "    hidden1 = Dense(hidden1_units, activation=\"leaky_relu\", name=\"hidden1\")(input_)\n",
    "\n",
    "    hidden2 = Dense(32, activation=\"leaky_relu\", name=\"hidden2\")(hidden1)   \n",
    "    hidden3 = Dense(16, activation=\"leaky_relu\", name=\"hidden3\")(hidden2)\n",
    "\n",
    "    # Tuning activation function for the mean output\n",
    "    mean_activation = hp.Choice('mean_activation', values=['softplus', 'linear', 'selu', 'exponential'])\n",
    "    mean = Dense(1, activation=mean_activation, name=\"mean\")(hidden3)\n",
    "    \n",
    "    sd = Dense(1, activation = \"softplus\", name = \"sd\")(hidden3)\n",
    "    output = Concatenate(name=\"combined\")([mean, sd])\n",
    "    \n",
    "    model1 = Model(inputs=[input_], outputs=[output])\n",
    "\n",
    "    #Tuning of learning rate\n",
    "    learning_rate = hp.Float(\"lr\", min_value=1e-4, max_value=1e-2, sampling=\"log\")\n",
    "    opt = keras.optimizers.Adam(learning_rate=learning_rate)\n",
    "\n",
    "    model1.compile(optimizer='adam', loss=nll_loss)\n",
    "    \n",
    "    return model1\n",
    "\n",
    "# Use Bayesian search\n",
    "tuner1 = kt.BayesianOptimization(\n",
    "  build_model1,\n",
    "  objective=\"val_loss\",\n",
    "  directory=\"bayesian-search-NN1\",\n",
    "  max_trials=10\n",
    ")\n",
    "\n",
    "es = EarlyStopping(restore_best_weights=True, patience=15)\n",
    "\n",
    "tuner1.search(X_train_oh, np.log(y_trainNN), epochs=100, callbacks = [es], validation_data=(X_val_oh, np.log(y_valNN)))"
   ]
  },
  {
   "cell_type": "code",
   "execution_count": 30,
   "id": "b9553386-fd58-48a9-a379-6f5d5d3a8191",
   "metadata": {
    "scrolled": true
   },
   "outputs": [
    {
     "name": "stdout",
     "output_type": "stream",
     "text": [
      "Results summary\n",
      "Results in bayesian-search-NN1\\untitled_project\n",
      "Showing 10 best trials\n",
      "Objective(name=\"val_loss\", direction=\"min\")\n",
      "\n",
      "Trial 00 summary\n",
      "Hyperparameters:\n",
      "hidden1_units: 112\n",
      "mean_activation: selu\n",
      "lr: 0.0006045397453672276\n",
      "Score: 14.722869873046875\n",
      "\n",
      "Trial 04 summary\n",
      "Hyperparameters:\n",
      "hidden1_units: 208\n",
      "mean_activation: linear\n",
      "lr: 0.0002464202939394493\n",
      "Score: 14.722911834716797\n",
      "\n",
      "Trial 02 summary\n",
      "Hyperparameters:\n",
      "hidden1_units: 192\n",
      "mean_activation: exponential\n",
      "lr: 0.0009389203815514113\n",
      "Score: 14.72315788269043\n",
      "\n",
      "Trial 09 summary\n",
      "Hyperparameters:\n",
      "hidden1_units: 128\n",
      "mean_activation: softplus\n",
      "lr: 0.0004229956292625801\n",
      "Score: 14.725103378295898\n",
      "\n",
      "Trial 03 summary\n",
      "Hyperparameters:\n",
      "hidden1_units: 192\n",
      "mean_activation: selu\n",
      "lr: 0.00020648655741227194\n",
      "Score: 14.725207328796387\n",
      "\n",
      "Trial 05 summary\n",
      "Hyperparameters:\n",
      "hidden1_units: 224\n",
      "mean_activation: softplus\n",
      "lr: 0.0011200350152365897\n",
      "Score: 14.7255220413208\n",
      "\n",
      "Trial 07 summary\n",
      "Hyperparameters:\n",
      "hidden1_units: 144\n",
      "mean_activation: selu\n",
      "lr: 0.0020776644996253492\n",
      "Score: 14.726076126098633\n",
      "\n",
      "Trial 06 summary\n",
      "Hyperparameters:\n",
      "hidden1_units: 192\n",
      "mean_activation: softplus\n",
      "lr: 0.00016018560667549093\n",
      "Score: 14.72633171081543\n",
      "\n",
      "Trial 08 summary\n",
      "Hyperparameters:\n",
      "hidden1_units: 208\n",
      "mean_activation: linear\n",
      "lr: 0.0006261461260984394\n",
      "Score: 14.72775650024414\n",
      "\n",
      "Trial 01 summary\n",
      "Hyperparameters:\n",
      "hidden1_units: 240\n",
      "mean_activation: softplus\n",
      "lr: 0.000294514201269749\n",
      "Score: 14.7326021194458\n"
     ]
    }
   ],
   "source": [
    "# Obtain a summary of all the trials\n",
    "tuner1.results_summary()"
   ]
  },
  {
   "cell_type": "code",
   "execution_count": 31,
   "id": "8402e962-d1fa-4095-8b3e-65d1e8cc712f",
   "metadata": {},
   "outputs": [
    {
     "name": "stdout",
     "output_type": "stream",
     "text": [
      "The optimal number of neurons in the hidden1 layer is: 112\n",
      "The optimal activation function for the mean output is: selu\n",
      "The optimal learning rate is: 0.0006045397453672276\n"
     ]
    }
   ],
   "source": [
    "# Get the best combination hyperparameters (Adapted from ChatGPT)\n",
    "best_hps = tuner1.get_best_hyperparameters(num_trials=1)[0]\n",
    "print(f\"The optimal number of neurons in the hidden1 layer is: {best_hps.get('hidden1_units')}\")\n",
    "print(f\"The optimal activation function for the mean output is: {best_hps.get('mean_activation')}\")\n",
    "print(f\"The optimal learning rate is: {best_hps.get('lr')}\")"
   ]
  },
  {
   "cell_type": "code",
   "execution_count": 32,
   "id": "64d430ce-d67c-4ebc-bd93-7866255227b0",
   "metadata": {},
   "outputs": [
    {
     "name": "stdout",
     "output_type": "stream",
     "text": [
      "Epoch 1/1000\n",
      "\u001b[1m3249/3249\u001b[0m \u001b[32m━━━━━━━━━━━━━━━━━━━━\u001b[0m\u001b[37m\u001b[0m \u001b[1m12s\u001b[0m 3ms/step - loss: 21.5030 - val_loss: 14.8067\n",
      "Epoch 2/1000\n",
      "\u001b[1m3249/3249\u001b[0m \u001b[32m━━━━━━━━━━━━━━━━━━━━\u001b[0m\u001b[37m\u001b[0m \u001b[1m8s\u001b[0m 2ms/step - loss: 14.8162 - val_loss: 14.7796\n",
      "Epoch 3/1000\n",
      "\u001b[1m3249/3249\u001b[0m \u001b[32m━━━━━━━━━━━━━━━━━━━━\u001b[0m\u001b[37m\u001b[0m \u001b[1m7s\u001b[0m 2ms/step - loss: 14.7896 - val_loss: 14.7611\n",
      "Epoch 4/1000\n",
      "\u001b[1m3249/3249\u001b[0m \u001b[32m━━━━━━━━━━━━━━━━━━━━\u001b[0m\u001b[37m\u001b[0m \u001b[1m8s\u001b[0m 3ms/step - loss: 14.7821 - val_loss: 14.7789\n",
      "Epoch 5/1000\n",
      "\u001b[1m3249/3249\u001b[0m \u001b[32m━━━━━━━━━━━━━━━━━━━━\u001b[0m\u001b[37m\u001b[0m \u001b[1m9s\u001b[0m 3ms/step - loss: 14.7753 - val_loss: 14.8101\n",
      "Epoch 6/1000\n",
      "\u001b[1m3249/3249\u001b[0m \u001b[32m━━━━━━━━━━━━━━━━━━━━\u001b[0m\u001b[37m\u001b[0m \u001b[1m9s\u001b[0m 3ms/step - loss: 14.7674 - val_loss: 14.7448\n",
      "Epoch 7/1000\n",
      "\u001b[1m3249/3249\u001b[0m \u001b[32m━━━━━━━━━━━━━━━━━━━━\u001b[0m\u001b[37m\u001b[0m \u001b[1m9s\u001b[0m 3ms/step - loss: 14.7704 - val_loss: 14.7629\n",
      "Epoch 8/1000\n",
      "\u001b[1m3249/3249\u001b[0m \u001b[32m━━━━━━━━━━━━━━━━━━━━\u001b[0m\u001b[37m\u001b[0m \u001b[1m9s\u001b[0m 3ms/step - loss: 14.7668 - val_loss: 14.7495\n",
      "Epoch 9/1000\n",
      "\u001b[1m3249/3249\u001b[0m \u001b[32m━━━━━━━━━━━━━━━━━━━━\u001b[0m\u001b[37m\u001b[0m \u001b[1m7s\u001b[0m 2ms/step - loss: 14.7645 - val_loss: 14.7478\n",
      "Epoch 10/1000\n",
      "\u001b[1m3249/3249\u001b[0m \u001b[32m━━━━━━━━━━━━━━━━━━━━\u001b[0m\u001b[37m\u001b[0m \u001b[1m7s\u001b[0m 2ms/step - loss: 14.7595 - val_loss: 14.7436\n",
      "Epoch 11/1000\n",
      "\u001b[1m3249/3249\u001b[0m \u001b[32m━━━━━━━━━━━━━━━━━━━━\u001b[0m\u001b[37m\u001b[0m \u001b[1m7s\u001b[0m 2ms/step - loss: 14.7514 - val_loss: 14.7490\n",
      "Epoch 12/1000\n",
      "\u001b[1m3249/3249\u001b[0m \u001b[32m━━━━━━━━━━━━━━━━━━━━\u001b[0m\u001b[37m\u001b[0m \u001b[1m8s\u001b[0m 2ms/step - loss: 14.7547 - val_loss: 14.7357\n",
      "Epoch 13/1000\n",
      "\u001b[1m3249/3249\u001b[0m \u001b[32m━━━━━━━━━━━━━━━━━━━━\u001b[0m\u001b[37m\u001b[0m \u001b[1m6s\u001b[0m 2ms/step - loss: 14.7515 - val_loss: 14.7430\n",
      "Epoch 14/1000\n",
      "\u001b[1m3249/3249\u001b[0m \u001b[32m━━━━━━━━━━━━━━━━━━━━\u001b[0m\u001b[37m\u001b[0m \u001b[1m7s\u001b[0m 2ms/step - loss: 14.7491 - val_loss: 14.7432\n",
      "Epoch 15/1000\n",
      "\u001b[1m3249/3249\u001b[0m \u001b[32m━━━━━━━━━━━━━━━━━━━━\u001b[0m\u001b[37m\u001b[0m \u001b[1m6s\u001b[0m 2ms/step - loss: 14.7558 - val_loss: 14.7359\n",
      "Epoch 16/1000\n",
      "\u001b[1m3249/3249\u001b[0m \u001b[32m━━━━━━━━━━━━━━━━━━━━\u001b[0m\u001b[37m\u001b[0m \u001b[1m7s\u001b[0m 2ms/step - loss: 14.7534 - val_loss: 14.7389\n",
      "Epoch 17/1000\n",
      "\u001b[1m3249/3249\u001b[0m \u001b[32m━━━━━━━━━━━━━━━━━━━━\u001b[0m\u001b[37m\u001b[0m \u001b[1m8s\u001b[0m 2ms/step - loss: 14.7613 - val_loss: 14.7415\n",
      "Epoch 18/1000\n",
      "\u001b[1m3249/3249\u001b[0m \u001b[32m━━━━━━━━━━━━━━━━━━━━\u001b[0m\u001b[37m\u001b[0m \u001b[1m7s\u001b[0m 2ms/step - loss: 14.7523 - val_loss: 14.7753\n",
      "Epoch 19/1000\n",
      "\u001b[1m3249/3249\u001b[0m \u001b[32m━━━━━━━━━━━━━━━━━━━━\u001b[0m\u001b[37m\u001b[0m \u001b[1m7s\u001b[0m 2ms/step - loss: 14.7588 - val_loss: 14.7304\n",
      "Epoch 20/1000\n",
      "\u001b[1m3249/3249\u001b[0m \u001b[32m━━━━━━━━━━━━━━━━━━━━\u001b[0m\u001b[37m\u001b[0m \u001b[1m7s\u001b[0m 2ms/step - loss: 14.7473 - val_loss: 14.7389\n",
      "Epoch 21/1000\n",
      "\u001b[1m3249/3249\u001b[0m \u001b[32m━━━━━━━━━━━━━━━━━━━━\u001b[0m\u001b[37m\u001b[0m \u001b[1m9s\u001b[0m 3ms/step - loss: 14.7506 - val_loss: 14.7354\n",
      "Epoch 22/1000\n",
      "\u001b[1m3249/3249\u001b[0m \u001b[32m━━━━━━━━━━━━━━━━━━━━\u001b[0m\u001b[37m\u001b[0m \u001b[1m7s\u001b[0m 2ms/step - loss: 14.7512 - val_loss: 14.7435\n",
      "Epoch 23/1000\n",
      "\u001b[1m3249/3249\u001b[0m \u001b[32m━━━━━━━━━━━━━━━━━━━━\u001b[0m\u001b[37m\u001b[0m \u001b[1m8s\u001b[0m 2ms/step - loss: 14.7475 - val_loss: 14.7333\n",
      "Epoch 24/1000\n",
      "\u001b[1m3249/3249\u001b[0m \u001b[32m━━━━━━━━━━━━━━━━━━━━\u001b[0m\u001b[37m\u001b[0m \u001b[1m7s\u001b[0m 2ms/step - loss: 14.7431 - val_loss: 14.7285\n",
      "Epoch 25/1000\n",
      "\u001b[1m3249/3249\u001b[0m \u001b[32m━━━━━━━━━━━━━━━━━━━━\u001b[0m\u001b[37m\u001b[0m \u001b[1m10s\u001b[0m 3ms/step - loss: 14.7415 - val_loss: 14.7343\n",
      "Epoch 26/1000\n",
      "\u001b[1m3249/3249\u001b[0m \u001b[32m━━━━━━━━━━━━━━━━━━━━\u001b[0m\u001b[37m\u001b[0m \u001b[1m7s\u001b[0m 2ms/step - loss: 14.7468 - val_loss: 14.7458\n",
      "Epoch 27/1000\n",
      "\u001b[1m3249/3249\u001b[0m \u001b[32m━━━━━━━━━━━━━━━━━━━━\u001b[0m\u001b[37m\u001b[0m \u001b[1m7s\u001b[0m 2ms/step - loss: 14.7593 - val_loss: 14.7373\n",
      "Epoch 28/1000\n",
      "\u001b[1m3249/3249\u001b[0m \u001b[32m━━━━━━━━━━━━━━━━━━━━\u001b[0m\u001b[37m\u001b[0m \u001b[1m7s\u001b[0m 2ms/step - loss: 14.7502 - val_loss: 14.7610\n",
      "Epoch 29/1000\n",
      "\u001b[1m3249/3249\u001b[0m \u001b[32m━━━━━━━━━━━━━━━━━━━━\u001b[0m\u001b[37m\u001b[0m \u001b[1m9s\u001b[0m 3ms/step - loss: 14.7448 - val_loss: 14.7308\n",
      "Epoch 30/1000\n",
      "\u001b[1m3249/3249\u001b[0m \u001b[32m━━━━━━━━━━━━━━━━━━━━\u001b[0m\u001b[37m\u001b[0m \u001b[1m7s\u001b[0m 2ms/step - loss: 14.7446 - val_loss: 14.7338\n",
      "Epoch 31/1000\n",
      "\u001b[1m3249/3249\u001b[0m \u001b[32m━━━━━━━━━━━━━━━━━━━━\u001b[0m\u001b[37m\u001b[0m \u001b[1m8s\u001b[0m 2ms/step - loss: 14.7394 - val_loss: 14.7435\n",
      "Epoch 32/1000\n",
      "\u001b[1m3249/3249\u001b[0m \u001b[32m━━━━━━━━━━━━━━━━━━━━\u001b[0m\u001b[37m\u001b[0m \u001b[1m8s\u001b[0m 2ms/step - loss: 14.7436 - val_loss: 14.7317\n",
      "Epoch 33/1000\n",
      "\u001b[1m3249/3249\u001b[0m \u001b[32m━━━━━━━━━━━━━━━━━━━━\u001b[0m\u001b[37m\u001b[0m \u001b[1m9s\u001b[0m 3ms/step - loss: 14.7489 - val_loss: 14.7348\n",
      "Epoch 34/1000\n",
      "\u001b[1m3249/3249\u001b[0m \u001b[32m━━━━━━━━━━━━━━━━━━━━\u001b[0m\u001b[37m\u001b[0m \u001b[1m7s\u001b[0m 2ms/step - loss: 14.7478 - val_loss: 14.7386\n",
      "Epoch 35/1000\n",
      "\u001b[1m3249/3249\u001b[0m \u001b[32m━━━━━━━━━━━━━━━━━━━━\u001b[0m\u001b[37m\u001b[0m \u001b[1m7s\u001b[0m 2ms/step - loss: 14.7438 - val_loss: 14.7300\n",
      "Epoch 36/1000\n",
      "\u001b[1m3249/3249\u001b[0m \u001b[32m━━━━━━━━━━━━━━━━━━━━\u001b[0m\u001b[37m\u001b[0m \u001b[1m8s\u001b[0m 3ms/step - loss: 14.7496 - val_loss: 14.7303\n",
      "Epoch 37/1000\n",
      "\u001b[1m3249/3249\u001b[0m \u001b[32m━━━━━━━━━━━━━━━━━━━━\u001b[0m\u001b[37m\u001b[0m \u001b[1m8s\u001b[0m 2ms/step - loss: 14.7420 - val_loss: 14.7293\n",
      "Epoch 38/1000\n",
      "\u001b[1m3249/3249\u001b[0m \u001b[32m━━━━━━━━━━━━━━━━━━━━\u001b[0m\u001b[37m\u001b[0m \u001b[1m7s\u001b[0m 2ms/step - loss: 14.7394 - val_loss: 14.7323\n",
      "Epoch 39/1000\n",
      "\u001b[1m3249/3249\u001b[0m \u001b[32m━━━━━━━━━━━━━━━━━━━━\u001b[0m\u001b[37m\u001b[0m \u001b[1m7s\u001b[0m 2ms/step - loss: 14.7370 - val_loss: 14.7299\n"
     ]
    }
   ],
   "source": [
    "# Build and train the model with the best hyperparameters\n",
    "model1 = tuner1.hypermodel.build(best_hps)\n",
    "hist1 = model1.fit(X_train_oh, np.log(y_trainNN), callbacks = [es], epochs=1000, validation_data=(X_val_oh, np.log(y_valNN)))"
   ]
  },
  {
   "cell_type": "code",
   "execution_count": 40,
   "id": "19299981-7014-497c-9db3-6448ac39154e",
   "metadata": {},
   "outputs": [
    {
     "data": {
      "image/png": "[encoded data removed]",
      "text/plain": [
       "<Figure size 640x480 with 1 Axes>"
      ]
     },
     "metadata": {},
     "output_type": "display_data"
    }
   ],
   "source": [
    "# Construct loss curve\n",
    "plt.plot(range(1, 40), hist1.history[\"loss\"])\n",
    "plt.xlabel(\"Epoch\")\n",
    "plt.ylabel(\"NLL\");\n",
    "\n",
    "### plt.savefig('Downloads/NN1-Loss-Curve.svg', format='svg')"
   ]
  },
  {
   "cell_type": "code",
   "execution_count": 102,
   "id": "c4ee415e-e688-46a2-9f48-afb49939b6d2",
   "metadata": {},
   "outputs": [],
   "source": [
    "# Define function which evaulates RF with NLL as metric\n",
    "def evaluate_NN(model, X, y_true):\n",
    "    y_pred = model.predict(X)\n",
    "    mean = y_pred[:, 0]\n",
    "    sigma = y_pred[:, 1]\n",
    "\n",
    "    # Compute log-likelihood for log-normal distribution\n",
    "    log_likelihood = -0.5 * ((np.log(y_true) - mean) ** 2 / (sigma ** 2)) - np.log(y_true) - 0.5 * np.log(2 * np.pi) - np.log(sigma)\n",
    "    nll = -tf.reduce_mean(log_likelihood)\n",
    "    print(f'Negative Log-Likelihood: {np.round(nll, 4)}')"
   ]
  },
  {
   "cell_type": "code",
   "execution_count": 48,
   "id": "dd2def58-b573-4b0f-8492-14a9ebd51e46",
   "metadata": {},
   "outputs": [
    {
     "name": "stdout",
     "output_type": "stream",
     "text": [
      "\u001b[1m3249/3249\u001b[0m \u001b[32m━━━━━━━━━━━━━━━━━━━━\u001b[0m\u001b[37m\u001b[0m \u001b[1m2s\u001b[0m 688us/step\n",
      "Negative Log-Likelihood: 14.6975\n"
     ]
    }
   ],
   "source": [
    "# Run first NN on training set\n",
    "evaluate_NN(model1, X_train_oh, y_trainNN)"
   ]
  },
  {
   "cell_type": "code",
   "execution_count": 49,
   "id": "9943a775-4c2b-44ea-99a1-f8982da5c509",
   "metadata": {},
   "outputs": [
    {
     "name": "stdout",
     "output_type": "stream",
     "text": [
      "\u001b[1m1083/1083\u001b[0m \u001b[32m━━━━━━━━━━━━━━━━━━━━\u001b[0m\u001b[37m\u001b[0m \u001b[1m1s\u001b[0m 665us/step\n",
      "Negative Log-Likelihood: 14.6912\n"
     ]
    }
   ],
   "source": [
    "# Run first NN on validation set\n",
    "evaluate_NN(model1, X_val_oh, y_valNN)"
   ]
  },
  {
   "cell_type": "code",
   "execution_count": 50,
   "id": "7615aa24-19e0-4954-9586-0aa0d8fbf06a",
   "metadata": {},
   "outputs": [
    {
     "name": "stdout",
     "output_type": "stream",
     "text": [
      "\u001b[1m1083/1083\u001b[0m \u001b[32m━━━━━━━━━━━━━━━━━━━━\u001b[0m\u001b[37m\u001b[0m \u001b[1m1s\u001b[0m 691us/step\n",
      "Negative Log-Likelihood: 14.6949\n"
     ]
    }
   ],
   "source": [
    "# Run first NN on test set\n",
    "evaluate_NN(model1, X_test_oh, y_testNN)"
   ]
  },
  {
   "cell_type": "markdown",
   "id": "5f709f6a-2082-401c-b013-b10317248103",
   "metadata": {},
   "source": [
    "## Neural Network 2 <a id=\"NN2\"></a>\n",
    "This is a more complex Wide & Deep network with dropout. This section is split into 4 sections and depends on the pre-processing and creation of the `nll_loss` function from [Neural Network 1](#NN1).\n",
    "1. Hyperparameter tuning of model based on `val_loss` with summary of all combinations of parameters used\n",
    "2. Train neural network with network with best hyperparameters\n",
    "2. Evaluating model on training, validation and test sets\n",
    "   - This includes the creation of a loss curve"
   ]
  },
  {
   "cell_type": "code",
   "execution_count": 51,
   "id": "bbf14947-6e5e-4c4d-b896-4200b07ffb10",
   "metadata": {},
   "outputs": [
    {
     "name": "stdout",
     "output_type": "stream",
     "text": [
      "Trial 10 Complete [00h 04m 31s]\n",
      "val_loss: 14.72359848022461\n",
      "\n",
      "Best val_loss So Far: 14.723591804504395\n",
      "Total elapsed time: 02h 14m 26s\n"
     ]
    }
   ],
   "source": [
    "# Hyper-parameter tuning\n",
    "def build_model2(hp):\n",
    "    input_ = Input(shape = (num_features,), name=\"input\")\n",
    "    hidden1 = Dense(112, activation=\"leaky_relu\", name=\"hidden1\")(input_)\n",
    "    dropout1 =  Dropout(0.2, name='dropout1')(hidden1)\n",
    "    hidden2 = Dense(32, activation=\"leaky_relu\", name=\"hidden2\")(dropout1)\n",
    "    dropout2 =  Dropout(0.2, name='dropout2')(hidden2)\n",
    "\n",
    "    # Tune number of neurons in third hidden layer\n",
    "    hidden3_units = hp.Int('hidden3_units', min_value=4, max_value=32, step=4)\n",
    "    hidden3 = Dense(hidden3_units, activation=\"leaky_relu\", name=\"hidden3\")(dropout2)\n",
    "\n",
    "    # Tuning of rate of third dropout layer\n",
    "    dropout_rate3 = hp.Float('dropout_rate3', min_value=0.0, max_value=0.5, step=0.05)\n",
    "    dropout3 =  Dropout(dropout_rate3, name='dropout3')(hidden3)\n",
    " \n",
    "    concat = Concatenate(name=\"combined\")([input_, dropout3])\n",
    "    mean = Dense(1, activation = \"selu\", name = \"mean\")(concat)\n",
    "    sd = Dense(1, activation = \"softplus\", name = \"sd\")(concat)\n",
    "    output = Concatenate(name=\"combined_output\")([mean, sd])    \n",
    "    model2 = Model(inputs=[input_], outputs=[output])\n",
    "\n",
    "    # Tuning of learning rate\n",
    "    learning_rate = hp.Float(\"lr\", min_value=1e-4, max_value=1e-2, sampling=\"log\")\n",
    "    opt = keras.optimizers.Adam(learning_rate=learning_rate)\n",
    "\n",
    "    # Loss function is same as NN1\n",
    "    model2.compile(optimizer='adam', loss=nll_loss)\n",
    "    \n",
    "    return model2\n",
    "\n",
    "# Use Bayesian search\n",
    "tuner2 = kt.BayesianOptimization(\n",
    "  build_model2,\n",
    "  objective=\"val_loss\",\n",
    "  directory=\"bayesian-search-NN2\",\n",
    "  max_trials=10\n",
    ")\n",
    "\n",
    "es = EarlyStopping(restore_best_weights=True, patience=15)\n",
    "\n",
    "tuner2.search(X_train_oh, np.log(y_trainNN), epochs=100, callbacks = [es], validation_data=(X_val_oh, np.log(y_valNN)))"
   ]
  },
  {
   "cell_type": "code",
   "execution_count": 84,
   "id": "def491ad-7f2d-45b6-9c27-214fc1dd1e22",
   "metadata": {},
   "outputs": [
    {
     "name": "stdout",
     "output_type": "stream",
     "text": [
      "Results summary\n",
      "Results in bayesian-search-NN2\\untitled_project\n",
      "Showing 10 best trials\n",
      "Objective(name=\"val_loss\", direction=\"min\")\n",
      "\n",
      "Trial 05 summary\n",
      "Hyperparameters:\n",
      "hidden3_units: 12\n",
      "dropout_rate3: 0.1\n",
      "lr: 0.00374755979723867\n",
      "Score: 14.734262466430664\n",
      "\n",
      "Trial 04 summary\n",
      "Hyperparameters:\n",
      "hidden3_units: 8\n",
      "dropout_rate3: 0.25\n",
      "lr: 0.007191048334401892\n",
      "Score: 14.735143661499023\n",
      "\n",
      "Trial 00 summary\n",
      "Hyperparameters:\n",
      "hidden3_units: 40\n",
      "dropout_rate3: 0.05\n",
      "lr: 0.0004900688590401333\n",
      "Score: 14.735356330871582\n",
      "\n",
      "Trial 09 summary\n",
      "Hyperparameters:\n",
      "hidden3_units: 28\n",
      "dropout_rate3: 0.1\n",
      "lr: 0.00348925819843469\n",
      "Score: 14.735512733459473\n",
      "\n",
      "Trial 06 summary\n",
      "Hyperparameters:\n",
      "hidden3_units: 20\n",
      "dropout_rate3: 0.0\n",
      "lr: 0.0013203367674065015\n",
      "Score: 14.735546112060547\n",
      "\n",
      "Trial 01 summary\n",
      "Hyperparameters:\n",
      "hidden3_units: 40\n",
      "dropout_rate3: 0.2\n",
      "lr: 0.00012071356508240166\n",
      "Score: 14.735722541809082\n",
      "\n",
      "Trial 07 summary\n",
      "Hyperparameters:\n",
      "hidden3_units: 4\n",
      "dropout_rate3: 0.0\n",
      "lr: 0.0002963442135421521\n",
      "Score: 14.735901832580566\n",
      "\n",
      "Trial 02 summary\n",
      "Hyperparameters:\n",
      "hidden3_units: 20\n",
      "dropout_rate3: 0.35000000000000003\n",
      "lr: 0.009656762976050113\n",
      "Score: 14.736273765563965\n",
      "\n",
      "Trial 03 summary\n",
      "Hyperparameters:\n",
      "hidden3_units: 20\n",
      "dropout_rate3: 0.0\n",
      "lr: 0.0018125215027101544\n",
      "Score: 14.738818168640137\n",
      "\n",
      "Trial 08 summary\n",
      "Hyperparameters:\n",
      "hidden3_units: 36\n",
      "dropout_rate3: 0.35000000000000003\n",
      "lr: 0.002770285640257412\n",
      "Score: 14.7408447265625\n"
     ]
    }
   ],
   "source": [
    "# Obtain a summary of all the trials\n",
    "tuner2.results_summary()"
   ]
  },
  {
   "cell_type": "code",
   "execution_count": 53,
   "id": "8d76ba94-2a8e-404e-a3dd-abd03f44fbce",
   "metadata": {},
   "outputs": [
    {
     "name": "stdout",
     "output_type": "stream",
     "text": [
      "The optimal number of neurons in the hidden3 layer is: 16\n",
      "The optimal rate of dropout in the dropout3 layer is: 0.05\n",
      "The optimal learning rate is: 0.00017887307871975\n"
     ]
    }
   ],
   "source": [
    "# Get the best combination hyperparameters (Adapted from ChatGPT)\n",
    "best_hps2 = tuner2.get_best_hyperparameters(num_trials=1)[0]\n",
    "print(f\"The optimal number of neurons in the hidden3 layer is: {best_hps2.get('hidden3_units')}\")\n",
    "print(f\"The optimal rate of dropout in the dropout3 layer is: {best_hps2.get('dropout_rate3')}\")\n",
    "print(f\"The optimal learning rate is: {best_hps2.get('lr')}\")"
   ]
  },
  {
   "cell_type": "code",
   "execution_count": 54,
   "id": "6253b7cd-0062-49ae-b09a-667672825f00",
   "metadata": {},
   "outputs": [
    {
     "name": "stdout",
     "output_type": "stream",
     "text": [
      "Epoch 1/1000\n",
      "\u001b[1m3249/3249\u001b[0m \u001b[32m━━━━━━━━━━━━━━━━━━━━\u001b[0m\u001b[37m\u001b[0m \u001b[1m8s\u001b[0m 2ms/step - loss: 32.4197 - val_loss: 15.6201\n",
      "Epoch 2/1000\n",
      "\u001b[1m3249/3249\u001b[0m \u001b[32m━━━━━━━━━━━━━━━━━━━━\u001b[0m\u001b[37m\u001b[0m \u001b[1m6s\u001b[0m 2ms/step - loss: 15.9291 - val_loss: 15.3141\n",
      "Epoch 3/1000\n",
      "\u001b[1m3249/3249\u001b[0m \u001b[32m━━━━━━━━━━━━━━━━━━━━\u001b[0m\u001b[37m\u001b[0m \u001b[1m6s\u001b[0m 2ms/step - loss: 15.6331 - val_loss: 14.9423\n",
      "Epoch 4/1000\n",
      "\u001b[1m3249/3249\u001b[0m \u001b[32m━━━━━━━━━━━━━━━━━━━━\u001b[0m\u001b[37m\u001b[0m \u001b[1m6s\u001b[0m 2ms/step - loss: 15.1745 - val_loss: 14.8138\n",
      "Epoch 5/1000\n",
      "\u001b[1m3249/3249\u001b[0m \u001b[32m━━━━━━━━━━━━━━━━━━━━\u001b[0m\u001b[37m\u001b[0m \u001b[1m6s\u001b[0m 2ms/step - loss: 15.0063 - val_loss: 14.7766\n",
      "Epoch 6/1000\n",
      "\u001b[1m3249/3249\u001b[0m \u001b[32m━━━━━━━━━━━━━━━━━━━━\u001b[0m\u001b[37m\u001b[0m \u001b[1m6s\u001b[0m 2ms/step - loss: 14.9480 - val_loss: 14.7700\n",
      "Epoch 7/1000\n",
      "\u001b[1m3249/3249\u001b[0m \u001b[32m━━━━━━━━━━━━━━━━━━━━\u001b[0m\u001b[37m\u001b[0m \u001b[1m7s\u001b[0m 2ms/step - loss: 14.8928 - val_loss: 14.7736\n",
      "Epoch 8/1000\n",
      "\u001b[1m3249/3249\u001b[0m \u001b[32m━━━━━━━━━━━━━━━━━━━━\u001b[0m\u001b[37m\u001b[0m \u001b[1m6s\u001b[0m 2ms/step - loss: 14.8598 - val_loss: 14.7522\n",
      "Epoch 9/1000\n",
      "\u001b[1m3249/3249\u001b[0m \u001b[32m━━━━━━━━━━━━━━━━━━━━\u001b[0m\u001b[37m\u001b[0m \u001b[1m6s\u001b[0m 2ms/step - loss: 14.8287 - val_loss: 14.7391\n",
      "Epoch 10/1000\n",
      "\u001b[1m3249/3249\u001b[0m \u001b[32m━━━━━━━━━━━━━━━━━━━━\u001b[0m\u001b[37m\u001b[0m \u001b[1m6s\u001b[0m 2ms/step - loss: 14.8071 - val_loss: 14.7479\n",
      "Epoch 11/1000\n",
      "\u001b[1m3249/3249\u001b[0m \u001b[32m━━━━━━━━━━━━━━━━━━━━\u001b[0m\u001b[37m\u001b[0m \u001b[1m6s\u001b[0m 2ms/step - loss: 14.7890 - val_loss: 14.7370\n",
      "Epoch 12/1000\n",
      "\u001b[1m3249/3249\u001b[0m \u001b[32m━━━━━━━━━━━━━━━━━━━━\u001b[0m\u001b[37m\u001b[0m \u001b[1m6s\u001b[0m 2ms/step - loss: 14.7665 - val_loss: 14.7316\n",
      "Epoch 13/1000\n",
      "\u001b[1m3249/3249\u001b[0m \u001b[32m━━━━━━━━━━━━━━━━━━━━\u001b[0m\u001b[37m\u001b[0m \u001b[1m6s\u001b[0m 2ms/step - loss: 14.7650 - val_loss: 14.7305\n",
      "Epoch 14/1000\n",
      "\u001b[1m3249/3249\u001b[0m \u001b[32m━━━━━━━━━━━━━━━━━━━━\u001b[0m\u001b[37m\u001b[0m \u001b[1m6s\u001b[0m 2ms/step - loss: 14.7522 - val_loss: 14.7300\n",
      "Epoch 15/1000\n",
      "\u001b[1m3249/3249\u001b[0m \u001b[32m━━━━━━━━━━━━━━━━━━━━\u001b[0m\u001b[37m\u001b[0m \u001b[1m6s\u001b[0m 2ms/step - loss: 14.7479 - val_loss: 14.7290\n",
      "Epoch 16/1000\n",
      "\u001b[1m3249/3249\u001b[0m \u001b[32m━━━━━━━━━━━━━━━━━━━━\u001b[0m\u001b[37m\u001b[0m \u001b[1m6s\u001b[0m 2ms/step - loss: 14.7451 - val_loss: 14.7265\n",
      "Epoch 17/1000\n",
      "\u001b[1m3249/3249\u001b[0m \u001b[32m━━━━━━━━━━━━━━━━━━━━\u001b[0m\u001b[37m\u001b[0m \u001b[1m7s\u001b[0m 2ms/step - loss: 14.7380 - val_loss: 14.7272\n",
      "Epoch 18/1000\n",
      "\u001b[1m3249/3249\u001b[0m \u001b[32m━━━━━━━━━━━━━━━━━━━━\u001b[0m\u001b[37m\u001b[0m \u001b[1m6s\u001b[0m 2ms/step - loss: 14.7399 - val_loss: 14.7264\n",
      "Epoch 19/1000\n",
      "\u001b[1m3249/3249\u001b[0m \u001b[32m━━━━━━━━━━━━━━━━━━━━\u001b[0m\u001b[37m\u001b[0m \u001b[1m6s\u001b[0m 2ms/step - loss: 14.7344 - val_loss: 14.7260\n",
      "Epoch 20/1000\n",
      "\u001b[1m3249/3249\u001b[0m \u001b[32m━━━━━━━━━━━━━━━━━━━━\u001b[0m\u001b[37m\u001b[0m \u001b[1m6s\u001b[0m 2ms/step - loss: 14.7401 - val_loss: 14.7255\n",
      "Epoch 21/1000\n",
      "\u001b[1m3249/3249\u001b[0m \u001b[32m━━━━━━━━━━━━━━━━━━━━\u001b[0m\u001b[37m\u001b[0m \u001b[1m6s\u001b[0m 2ms/step - loss: 14.7365 - val_loss: 14.7269\n",
      "Epoch 22/1000\n",
      "\u001b[1m3249/3249\u001b[0m \u001b[32m━━━━━━━━━━━━━━━━━━━━\u001b[0m\u001b[37m\u001b[0m \u001b[1m6s\u001b[0m 2ms/step - loss: 14.7283 - val_loss: 14.7254\n",
      "Epoch 23/1000\n",
      "\u001b[1m3249/3249\u001b[0m \u001b[32m━━━━━━━━━━━━━━━━━━━━\u001b[0m\u001b[37m\u001b[0m \u001b[1m6s\u001b[0m 2ms/step - loss: 14.7377 - val_loss: 14.7248\n",
      "Epoch 24/1000\n",
      "\u001b[1m3249/3249\u001b[0m \u001b[32m━━━━━━━━━━━━━━━━━━━━\u001b[0m\u001b[37m\u001b[0m \u001b[1m6s\u001b[0m 2ms/step - loss: 14.7328 - val_loss: 14.7251\n",
      "Epoch 25/1000\n",
      "\u001b[1m3249/3249\u001b[0m \u001b[32m━━━━━━━━━━━━━━━━━━━━\u001b[0m\u001b[37m\u001b[0m \u001b[1m6s\u001b[0m 2ms/step - loss: 14.7348 - val_loss: 14.7252\n",
      "Epoch 26/1000\n",
      "\u001b[1m3249/3249\u001b[0m \u001b[32m━━━━━━━━━━━━━━━━━━━━\u001b[0m\u001b[37m\u001b[0m \u001b[1m6s\u001b[0m 2ms/step - loss: 14.7339 - val_loss: 14.7243\n",
      "Epoch 27/1000\n",
      "\u001b[1m3249/3249\u001b[0m \u001b[32m━━━━━━━━━━━━━━━━━━━━\u001b[0m\u001b[37m\u001b[0m \u001b[1m7s\u001b[0m 2ms/step - loss: 14.7295 - val_loss: 14.7246\n",
      "Epoch 28/1000\n",
      "\u001b[1m3249/3249\u001b[0m \u001b[32m━━━━━━━━━━━━━━━━━━━━\u001b[0m\u001b[37m\u001b[0m \u001b[1m6s\u001b[0m 2ms/step - loss: 14.7416 - val_loss: 14.7242\n",
      "Epoch 29/1000\n",
      "\u001b[1m3249/3249\u001b[0m \u001b[32m━━━━━━━━━━━━━━━━━━━━\u001b[0m\u001b[37m\u001b[0m \u001b[1m6s\u001b[0m 2ms/step - loss: 14.7350 - val_loss: 14.7246\n",
      "Epoch 30/1000\n",
      "\u001b[1m3249/3249\u001b[0m \u001b[32m━━━━━━━━━━━━━━━━━━━━\u001b[0m\u001b[37m\u001b[0m \u001b[1m6s\u001b[0m 2ms/step - loss: 14.7357 - val_loss: 14.7242\n",
      "Epoch 31/1000\n",
      "\u001b[1m3249/3249\u001b[0m \u001b[32m━━━━━━━━━━━━━━━━━━━━\u001b[0m\u001b[37m\u001b[0m \u001b[1m6s\u001b[0m 2ms/step - loss: 14.7385 - val_loss: 14.7244\n",
      "Epoch 32/1000\n",
      "\u001b[1m3249/3249\u001b[0m \u001b[32m━━━━━━━━━━━━━━━━━━━━\u001b[0m\u001b[37m\u001b[0m \u001b[1m7s\u001b[0m 2ms/step - loss: 14.7336 - val_loss: 14.7244\n",
      "Epoch 33/1000\n",
      "\u001b[1m3249/3249\u001b[0m \u001b[32m━━━━━━━━━━━━━━━━━━━━\u001b[0m\u001b[37m\u001b[0m \u001b[1m6s\u001b[0m 2ms/step - loss: 14.7390 - val_loss: 14.7243\n",
      "Epoch 34/1000\n",
      "\u001b[1m3249/3249\u001b[0m \u001b[32m━━━━━━━━━━━━━━━━━━━━\u001b[0m\u001b[37m\u001b[0m \u001b[1m6s\u001b[0m 2ms/step - loss: 14.7308 - val_loss: 14.7243\n",
      "Epoch 35/1000\n",
      "\u001b[1m3249/3249\u001b[0m \u001b[32m━━━━━━━━━━━━━━━━━━━━\u001b[0m\u001b[37m\u001b[0m \u001b[1m6s\u001b[0m 2ms/step - loss: 14.7351 - val_loss: 14.7245\n",
      "Epoch 36/1000\n",
      "\u001b[1m3249/3249\u001b[0m \u001b[32m━━━━━━━━━━━━━━━━━━━━\u001b[0m\u001b[37m\u001b[0m \u001b[1m7s\u001b[0m 2ms/step - loss: 14.7280 - val_loss: 14.7238\n",
      "Epoch 37/1000\n",
      "\u001b[1m3249/3249\u001b[0m \u001b[32m━━━━━━━━━━━━━━━━━━━━\u001b[0m\u001b[37m\u001b[0m \u001b[1m7s\u001b[0m 2ms/step - loss: 14.7320 - val_loss: 14.7240\n",
      "Epoch 38/1000\n",
      "\u001b[1m3249/3249\u001b[0m \u001b[32m━━━━━━━━━━━━━━━━━━━━\u001b[0m\u001b[37m\u001b[0m \u001b[1m6s\u001b[0m 2ms/step - loss: 14.7384 - val_loss: 14.7236\n",
      "Epoch 39/1000\n",
      "\u001b[1m3249/3249\u001b[0m \u001b[32m━━━━━━━━━━━━━━━━━━━━\u001b[0m\u001b[37m\u001b[0m \u001b[1m8s\u001b[0m 2ms/step - loss: 14.7291 - val_loss: 14.7239\n",
      "Epoch 40/1000\n",
      "\u001b[1m3249/3249\u001b[0m \u001b[32m━━━━━━━━━━━━━━━━━━━━\u001b[0m\u001b[37m\u001b[0m \u001b[1m8s\u001b[0m 3ms/step - loss: 14.7242 - val_loss: 14.7248\n",
      "Epoch 41/1000\n",
      "\u001b[1m3249/3249\u001b[0m \u001b[32m━━━━━━━━━━━━━━━━━━━━\u001b[0m\u001b[37m\u001b[0m \u001b[1m8s\u001b[0m 3ms/step - loss: 14.7392 - val_loss: 14.7249\n",
      "Epoch 42/1000\n",
      "\u001b[1m3249/3249\u001b[0m \u001b[32m━━━━━━━━━━━━━━━━━━━━\u001b[0m\u001b[37m\u001b[0m \u001b[1m7s\u001b[0m 2ms/step - loss: 14.7356 - val_loss: 14.7238\n",
      "Epoch 43/1000\n",
      "\u001b[1m3249/3249\u001b[0m \u001b[32m━━━━━━━━━━━━━━━━━━━━\u001b[0m\u001b[37m\u001b[0m \u001b[1m8s\u001b[0m 2ms/step - loss: 14.7325 - val_loss: 14.7238\n",
      "Epoch 44/1000\n",
      "\u001b[1m3249/3249\u001b[0m \u001b[32m━━━━━━━━━━━━━━━━━━━━\u001b[0m\u001b[37m\u001b[0m \u001b[1m9s\u001b[0m 3ms/step - loss: 14.7356 - val_loss: 14.7238\n",
      "Epoch 45/1000\n",
      "\u001b[1m3249/3249\u001b[0m \u001b[32m━━━━━━━━━━━━━━━━━━━━\u001b[0m\u001b[37m\u001b[0m \u001b[1m8s\u001b[0m 2ms/step - loss: 14.7293 - val_loss: 14.7241\n",
      "Epoch 46/1000\n",
      "\u001b[1m3249/3249\u001b[0m \u001b[32m━━━━━━━━━━━━━━━━━━━━\u001b[0m\u001b[37m\u001b[0m \u001b[1m8s\u001b[0m 2ms/step - loss: 14.7276 - val_loss: 14.7238\n",
      "Epoch 47/1000\n",
      "\u001b[1m3249/3249\u001b[0m \u001b[32m━━━━━━━━━━━━━━━━━━━━\u001b[0m\u001b[37m\u001b[0m \u001b[1m9s\u001b[0m 3ms/step - loss: 14.7299 - val_loss: 14.7252\n",
      "Epoch 48/1000\n",
      "\u001b[1m3249/3249\u001b[0m \u001b[32m━━━━━━━━━━━━━━━━━━━━\u001b[0m\u001b[37m\u001b[0m \u001b[1m10s\u001b[0m 3ms/step - loss: 14.7319 - val_loss: 14.7238\n",
      "Epoch 49/1000\n",
      "\u001b[1m3249/3249\u001b[0m \u001b[32m━━━━━━━━━━━━━━━━━━━━\u001b[0m\u001b[37m\u001b[0m \u001b[1m12s\u001b[0m 4ms/step - loss: 14.7298 - val_loss: 14.7238\n",
      "Epoch 50/1000\n",
      "\u001b[1m3249/3249\u001b[0m \u001b[32m━━━━━━━━━━━━━━━━━━━━\u001b[0m\u001b[37m\u001b[0m \u001b[1m12s\u001b[0m 4ms/step - loss: 14.7299 - val_loss: 14.7238\n",
      "Epoch 51/1000\n",
      "\u001b[1m3249/3249\u001b[0m \u001b[32m━━━━━━━━━━━━━━━━━━━━\u001b[0m\u001b[37m\u001b[0m \u001b[1m20s\u001b[0m 6ms/step - loss: 14.7325 - val_loss: 14.7236\n",
      "Epoch 52/1000\n",
      "\u001b[1m3249/3249\u001b[0m \u001b[32m━━━━━━━━━━━━━━━━━━━━\u001b[0m\u001b[37m\u001b[0m \u001b[1m15s\u001b[0m 4ms/step - loss: 14.7355 - val_loss: 14.7244\n",
      "Epoch 53/1000\n",
      "\u001b[1m3249/3249\u001b[0m \u001b[32m━━━━━━━━━━━━━━━━━━━━\u001b[0m\u001b[37m\u001b[0m \u001b[1m10s\u001b[0m 3ms/step - loss: 14.7364 - val_loss: 14.7240\n"
     ]
    }
   ],
   "source": [
    "# Build and train the model with the best hyperparameters\n",
    "model2 = tuner2.hypermodel.build(best_hps2)\n",
    "hist2 = model2.fit(X_train_oh, np.log(y_trainNN), callbacks = [es], epochs=1000, validation_data=(X_val_oh, np.log(y_valNN)))"
   ]
  },
  {
   "cell_type": "code",
   "execution_count": 55,
   "id": "4efa9071-4176-4258-a537-dbf48d3709eb",
   "metadata": {},
   "outputs": [
    {
     "data": {
      "image/png": "[encoded data removed]",
      "text/plain": [
       "<Figure size 640x480 with 1 Axes>"
      ]
     },
     "metadata": {},
     "output_type": "display_data"
    }
   ],
   "source": [
    "# Construct loss curve\n",
    "plt.plot(range(1, 27), hist2.history[\"loss\"])\n",
    "plt.xlabel(\"Epoch\")\n",
    "plt.ylabel(\"NLL\");\n",
    "\n",
    "### plt.savefig('Downloads/NN2-Loss-Curve.svg', format='svg')"
   ]
  },
  {
   "cell_type": "code",
   "execution_count": 56,
   "id": "60426c59-0434-4493-a202-ba3e8549e1e5",
   "metadata": {},
   "outputs": [
    {
     "name": "stdout",
     "output_type": "stream",
     "text": [
      "\u001b[1m3249/3249\u001b[0m \u001b[32m━━━━━━━━━━━━━━━━━━━━\u001b[0m\u001b[37m\u001b[0m \u001b[1m2s\u001b[0m 658us/step\n",
      "Negative Log-Likelihood: 14.6964\n"
     ]
    }
   ],
   "source": [
    "# Run second NN on training set\n",
    "evaluate_NN(model2, X_train_oh, y_trainNN)"
   ]
  },
  {
   "cell_type": "code",
   "execution_count": 57,
   "id": "216f6b1e-5a9e-46f2-af6d-d6f134eff580",
   "metadata": {},
   "outputs": [
    {
     "name": "stdout",
     "output_type": "stream",
     "text": [
      "\u001b[1m1083/1083\u001b[0m \u001b[32m━━━━━━━━━━━━━━━━━━━━\u001b[0m\u001b[37m\u001b[0m \u001b[1m1s\u001b[0m 694us/step\n",
      "Negative Log-Likelihood: 14.6895\n"
     ]
    }
   ],
   "source": [
    "# Run second NN on validation set\n",
    "evaluate_NN(model2, X_val_oh, y_valNN)"
   ]
  },
  {
   "cell_type": "code",
   "execution_count": 58,
   "id": "1719e2fd-6b74-45c2-bd90-19f86049f137",
   "metadata": {},
   "outputs": [
    {
     "name": "stdout",
     "output_type": "stream",
     "text": [
      "\u001b[1m1083/1083\u001b[0m \u001b[32m━━━━━━━━━━━━━━━━━━━━\u001b[0m\u001b[37m\u001b[0m \u001b[1m1s\u001b[0m 1ms/step\n",
      "Negative Log-Likelihood: 14.6947\n"
     ]
    }
   ],
   "source": [
    "# Run second NN on test set\n",
    "evaluate_NN(model2, X_test_oh, y_testNN)"
   ]
  }
 ],
 "metadata": {
  "kernelspec": {
   "display_name": "Python 3 (ipykernel)",
   "language": "python",
   "name": "python3"
  },
  "language_info": {
   "codemirror_mode": {
    "name": "ipython",
    "version": 3
   },
   "file_extension": ".py",
   "mimetype": "text/x-python",
   "name": "python",
   "nbconvert_exporter": "python",
   "pygments_lexer": "ipython3",
   "version": "3.11.7"
  }
 },
 "nbformat": 4,
 "nbformat_minor": 5
}
